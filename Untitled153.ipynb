{
  "nbformat": 4,
  "nbformat_minor": 0,
  "metadata": {
    "colab": {
      "name": "Untitled153.ipynb",
      "provenance": [],
      "authorship_tag": "ABX9TyNPc3qs1Hc0wrA23diEL4Uh",
      "include_colab_link": true
    },
    "kernelspec": {
      "name": "python3",
      "display_name": "Python 3"
    }
  },
  "cells": [
    {
      "cell_type": "markdown",
      "metadata": {
        "id": "view-in-github",
        "colab_type": "text"
      },
      "source": [
        "<a href=\"https://colab.research.google.com/github/manjotmb20/Audio-Classification-using-MFCCs/blob/master/Untitled153.ipynb\" target=\"_parent\"><img src=\"https://colab.research.google.com/assets/colab-badge.svg\" alt=\"Open In Colab\"/></a>"
      ]
    },
    {
      "cell_type": "code",
      "metadata": {
        "id": "lj6R33wIYgSM",
        "colab_type": "code",
        "colab": {}
      },
      "source": [
        "\n",
        "import pandas as pd\n",
        "import numpy as np\n",
        "from sklearn import metrics\n",
        "import matplotlib.pyplot as plt\n",
        "from sklearn import model_selection\n",
        "from sklearn.metrics import classification_report\n",
        "from sklearn.metrics import confusion_matrix\n",
        "from sklearn.metrics import accuracy_score\n",
        "from sklearn.linear_model import LogisticRegression\n",
        "from sklearn.tree import DecisionTreeClassifier\n",
        "from sklearn.ensemble import RandomForestClassifier\n",
        "from sklearn.neighbors import KNeighborsClassifier\n",
        "from sklearn.discriminant_analysis import LinearDiscriminantAnalysis\n",
        "from sklearn.naive_bayes import GaussianNB\n",
        "from sklearn.metrics import roc_curve, auc\n",
        "from sklearn import preprocessing\n",
        "from sklearn import svm\n",
        "from sklearn.model_selection import train_test_split\n",
        "from sklearn import tree"
      ],
      "execution_count": 0,
      "outputs": []
    },
    {
      "cell_type": "code",
      "metadata": {
        "id": "bakYblagVu3g",
        "colab_type": "code",
        "colab": {}
      },
      "source": [
        "from  sklearn import  datasets\n",
        "iris=datasets.load_iris()"
      ],
      "execution_count": 0,
      "outputs": []
    },
    {
      "cell_type": "code",
      "metadata": {
        "id": "WO1KFmUFWZrB",
        "colab_type": "code",
        "colab": {}
      },
      "source": [
        "x=iris.data\n",
        "y=iris.target\n",
        "from sklearn.model_selection import train_test_split\n",
        "x_train,x_val,y_train,y_val=train_test_split(x,y,test_size=.5)"
      ],
      "execution_count": 0,
      "outputs": []
    },
    {
      "cell_type": "code",
      "metadata": {
        "id": "-TpJV_PGWqZQ",
        "colab_type": "code",
        "colab": {
          "base_uri": "https://localhost:8080/",
          "height": 1000
        },
        "outputId": "dbb8c503-c7e6-4b00-da53-02f390820a3d"
      },
      "source": [
        "Fo"
      ],
      "execution_count": 74,
      "outputs": [
        {
          "output_type": "execute_result",
          "data": {
            "text/plain": [
              "array([[9.83920091e-01, 1.60799086e-02, 1.31340146e-11],\n",
              "       [9.94195062e-01, 5.80493795e-03, 6.54239806e-12],\n",
              "       [3.48743320e-06, 6.30608049e-02, 9.36935708e-01],\n",
              "       [9.85392195e-01, 1.46078051e-02, 5.25938911e-11],\n",
              "       [1.55107738e-07, 1.88769103e-02, 9.81122935e-01],\n",
              "       [2.12270418e-05, 7.56444441e-02, 9.24334329e-01],\n",
              "       [9.94165768e-01, 5.83423190e-03, 1.49111373e-11],\n",
              "       [2.05264882e-04, 5.48762696e-01, 4.51032039e-01],\n",
              "       [3.86611396e-03, 7.85747906e-01, 2.10385980e-01],\n",
              "       [9.92432240e-01, 7.56776027e-03, 1.58435182e-12],\n",
              "       [1.72661657e-06, 3.72119834e-02, 9.62786290e-01],\n",
              "       [4.14965879e-07, 1.45367940e-02, 9.85462791e-01],\n",
              "       [2.78702582e-07, 1.03715034e-02, 9.89628218e-01],\n",
              "       [4.80145414e-04, 9.77418677e-01, 2.21011776e-02],\n",
              "       [1.47438576e-03, 9.90451836e-01, 8.07377854e-03],\n",
              "       [9.92705700e-01, 7.29429956e-03, 9.47464687e-12],\n",
              "       [5.48450342e-03, 9.62657210e-01, 3.18582867e-02],\n",
              "       [3.56021496e-04, 5.17695437e-01, 4.81948542e-01],\n",
              "       [9.86392421e-01, 1.36075785e-02, 1.35741759e-11],\n",
              "       [7.32491595e-04, 8.77455920e-01, 1.21811589e-01],\n",
              "       [9.59575123e-01, 4.04248765e-02, 5.72994962e-11],\n",
              "       [2.68229289e-04, 9.84765046e-01, 1.49667244e-02],\n",
              "       [1.69885479e-05, 1.81526597e-01, 8.18456414e-01],\n",
              "       [4.75370113e-06, 5.07111636e-02, 9.49284083e-01],\n",
              "       [2.01932861e-04, 4.49605064e-01, 5.50193003e-01],\n",
              "       [2.17666070e-02, 9.54330288e-01, 2.39031046e-02],\n",
              "       [9.98665008e-01, 1.33499179e-03, 5.80801717e-13],\n",
              "       [1.15575299e-07, 6.49738678e-03, 9.93502498e-01],\n",
              "       [9.86670707e-01, 1.33292933e-02, 1.52856194e-11],\n",
              "       [9.88225469e-01, 1.17745314e-02, 3.99163072e-12],\n",
              "       [4.21833106e-02, 9.54233446e-01, 3.58324296e-03],\n",
              "       [3.07849932e-07, 2.13849237e-02, 9.78614768e-01],\n",
              "       [9.87711099e-01, 1.22889007e-02, 3.37444689e-11],\n",
              "       [9.93135233e-01, 6.86476652e-03, 8.97128537e-12],\n",
              "       [3.70241590e-04, 8.59767510e-01, 1.39862249e-01],\n",
              "       [9.97805299e-01, 2.19470106e-03, 4.53001791e-12],\n",
              "       [9.93637996e-01, 6.36200353e-03, 3.18798251e-11],\n",
              "       [5.89946917e-06, 1.06051207e-01, 8.93942893e-01],\n",
              "       [9.89021531e-01, 1.09784694e-02, 2.28518372e-11],\n",
              "       [9.90616861e-01, 9.38313940e-03, 8.66190420e-11],\n",
              "       [1.30430081e-01, 8.68678505e-01, 8.91413383e-04],\n",
              "       [9.96482641e-01, 3.51735943e-03, 1.63757026e-11],\n",
              "       [6.21999936e-03, 9.88878784e-01, 4.90121648e-03],\n",
              "       [3.08242711e-07, 1.43525978e-02, 9.85647094e-01],\n",
              "       [9.67319456e-01, 3.26805433e-02, 6.05976559e-10],\n",
              "       [9.85474829e-01, 1.45251712e-02, 3.26581905e-11],\n",
              "       [1.23976516e-08, 1.22143242e-02, 9.87785663e-01],\n",
              "       [9.90156089e-01, 9.84391121e-03, 5.78065758e-13],\n",
              "       [4.69571284e-06, 9.60056856e-02, 9.03989619e-01],\n",
              "       [3.80555130e-06, 2.85398002e-02, 9.71456394e-01],\n",
              "       [9.87649491e-01, 1.23505087e-02, 7.69063340e-11],\n",
              "       [9.96083398e-02, 8.99524336e-01, 8.67323736e-04],\n",
              "       [9.86246425e-01, 1.37535747e-02, 4.98213386e-11],\n",
              "       [9.19101878e-03, 9.87048319e-01, 3.76066180e-03],\n",
              "       [5.05806909e-05, 3.19189609e-01, 6.80759810e-01],\n",
              "       [7.61208271e-04, 9.24869573e-01, 7.43692182e-02],\n",
              "       [1.04306591e-02, 9.84335967e-01, 5.23337378e-03],\n",
              "       [6.08651215e-05, 2.53926410e-01, 7.46012725e-01],\n",
              "       [9.88671218e-01, 1.13287815e-02, 7.44880165e-11],\n",
              "       [3.25305752e-08, 1.98313624e-02, 9.80168605e-01],\n",
              "       [9.93653187e-01, 6.34681331e-03, 3.16796605e-12],\n",
              "       [1.39140924e-02, 9.81530246e-01, 4.55566199e-03],\n",
              "       [4.62821031e-03, 9.91289177e-01, 4.08261261e-03],\n",
              "       [1.72165159e-08, 9.21094537e-04, 9.99078888e-01],\n",
              "       [1.44156131e-05, 2.45835337e-01, 7.54150248e-01],\n",
              "       [1.62070877e-04, 9.40486893e-01, 5.93510357e-02],\n",
              "       [4.13770156e-06, 1.35014922e-01, 8.64980940e-01],\n",
              "       [9.52823568e-05, 4.46428364e-01, 5.53476354e-01],\n",
              "       [3.96855345e-06, 1.67147117e-02, 9.83281320e-01],\n",
              "       [6.01742008e-06, 9.07339564e-02, 9.09260026e-01],\n",
              "       [8.77049344e-05, 5.00326515e-01, 4.99585780e-01],\n",
              "       [9.75855555e-01, 2.41444443e-02, 6.56824195e-10],\n",
              "       [5.72435710e-04, 5.36346741e-01, 4.63080824e-01],\n",
              "       [6.35521757e-03, 9.67338279e-01, 2.63065030e-02],\n",
              "       [9.94834948e-01, 5.16505154e-03, 2.76644192e-11]])"
            ]
          },
          "metadata": {
            "tags": []
          },
          "execution_count": 74
        }
      ]
    },
    {
      "cell_type": "code",
      "metadata": {
        "id": "Oh4kdSiUXDpX",
        "colab_type": "code",
        "colab": {
          "base_uri": "https://localhost:8080/",
          "height": 453
        },
        "outputId": "aaca9a39-2ac8-4392-ae45-6e8f3d529ad7"
      },
      "source": [
        "classifier=LogisticRegression(C=5.0,random_state=0)\n",
        "classifier.fit(x_train,y_train)\n",
        "ypred=classifier.predict(x_val)\n",
        "print(\"Accuracy score of LR\",accuracy_score(y_val,ypred))\n",
        "y_prob=classifier.predict_proba(x_val)\n",
        "df=pd.DataFrame()\n",
        "df['pred']=ypred\n",
        "survived=pd.get_dummies(df.pred,prefix='Survived')\n",
        "df=pd.concat([df,survived],axis=1)\n",
        "df.drop('pred',inplace=True,axis=1)\n",
        "df2=pd.DataFrame()\n",
        "classifier3=DecisionTreeClassifier()\n",
        "classifier3.fit(x_train,y_train)\n",
        "ypred3=classifier3.predict(x_val)\n",
        "print(\"Accuracy score of Decision Tree\",accuracy_score(y_val,ypred3))\n",
        "df2['pred']=ypred3\n",
        "y_prob3=classifier3.predict_proba(x_val)\n",
        "survived2=pd.get_dummies(df2.pred,prefix='Surviveds')\n",
        "df=pd.concat([df,survived2],axis=1)\n",
        "df"
      ],
      "execution_count": 75,
      "outputs": [
        {
          "output_type": "stream",
          "text": [
            "Accuracy score of LR 0.9466666666666667\n",
            "Accuracy score of Decision Tree 0.9466666666666667\n"
          ],
          "name": "stdout"
        },
        {
          "output_type": "execute_result",
          "data": {
            "text/html": [
              "<div>\n",
              "<style scoped>\n",
              "    .dataframe tbody tr th:only-of-type {\n",
              "        vertical-align: middle;\n",
              "    }\n",
              "\n",
              "    .dataframe tbody tr th {\n",
              "        vertical-align: top;\n",
              "    }\n",
              "\n",
              "    .dataframe thead th {\n",
              "        text-align: right;\n",
              "    }\n",
              "</style>\n",
              "<table border=\"1\" class=\"dataframe\">\n",
              "  <thead>\n",
              "    <tr style=\"text-align: right;\">\n",
              "      <th></th>\n",
              "      <th>Survived_0</th>\n",
              "      <th>Survived_1</th>\n",
              "      <th>Survived_2</th>\n",
              "      <th>Surviveds_0</th>\n",
              "      <th>Surviveds_1</th>\n",
              "      <th>Surviveds_2</th>\n",
              "    </tr>\n",
              "  </thead>\n",
              "  <tbody>\n",
              "    <tr>\n",
              "      <th>0</th>\n",
              "      <td>0</td>\n",
              "      <td>1</td>\n",
              "      <td>0</td>\n",
              "      <td>0</td>\n",
              "      <td>1</td>\n",
              "      <td>0</td>\n",
              "    </tr>\n",
              "    <tr>\n",
              "      <th>1</th>\n",
              "      <td>1</td>\n",
              "      <td>0</td>\n",
              "      <td>0</td>\n",
              "      <td>1</td>\n",
              "      <td>0</td>\n",
              "      <td>0</td>\n",
              "    </tr>\n",
              "    <tr>\n",
              "      <th>2</th>\n",
              "      <td>0</td>\n",
              "      <td>0</td>\n",
              "      <td>1</td>\n",
              "      <td>0</td>\n",
              "      <td>0</td>\n",
              "      <td>1</td>\n",
              "    </tr>\n",
              "    <tr>\n",
              "      <th>3</th>\n",
              "      <td>0</td>\n",
              "      <td>1</td>\n",
              "      <td>0</td>\n",
              "      <td>0</td>\n",
              "      <td>0</td>\n",
              "      <td>1</td>\n",
              "    </tr>\n",
              "    <tr>\n",
              "      <th>4</th>\n",
              "      <td>0</td>\n",
              "      <td>0</td>\n",
              "      <td>1</td>\n",
              "      <td>0</td>\n",
              "      <td>0</td>\n",
              "      <td>1</td>\n",
              "    </tr>\n",
              "    <tr>\n",
              "      <th>...</th>\n",
              "      <td>...</td>\n",
              "      <td>...</td>\n",
              "      <td>...</td>\n",
              "      <td>...</td>\n",
              "      <td>...</td>\n",
              "      <td>...</td>\n",
              "    </tr>\n",
              "    <tr>\n",
              "      <th>70</th>\n",
              "      <td>1</td>\n",
              "      <td>0</td>\n",
              "      <td>0</td>\n",
              "      <td>1</td>\n",
              "      <td>0</td>\n",
              "      <td>0</td>\n",
              "    </tr>\n",
              "    <tr>\n",
              "      <th>71</th>\n",
              "      <td>0</td>\n",
              "      <td>1</td>\n",
              "      <td>0</td>\n",
              "      <td>0</td>\n",
              "      <td>1</td>\n",
              "      <td>0</td>\n",
              "    </tr>\n",
              "    <tr>\n",
              "      <th>72</th>\n",
              "      <td>0</td>\n",
              "      <td>1</td>\n",
              "      <td>0</td>\n",
              "      <td>0</td>\n",
              "      <td>1</td>\n",
              "      <td>0</td>\n",
              "    </tr>\n",
              "    <tr>\n",
              "      <th>73</th>\n",
              "      <td>0</td>\n",
              "      <td>0</td>\n",
              "      <td>1</td>\n",
              "      <td>0</td>\n",
              "      <td>0</td>\n",
              "      <td>1</td>\n",
              "    </tr>\n",
              "    <tr>\n",
              "      <th>74</th>\n",
              "      <td>0</td>\n",
              "      <td>0</td>\n",
              "      <td>1</td>\n",
              "      <td>0</td>\n",
              "      <td>0</td>\n",
              "      <td>1</td>\n",
              "    </tr>\n",
              "  </tbody>\n",
              "</table>\n",
              "<p>75 rows × 6 columns</p>\n",
              "</div>"
            ],
            "text/plain": [
              "    Survived_0  Survived_1  Survived_2  Surviveds_0  Surviveds_1  Surviveds_2\n",
              "0            0           1           0            0            1            0\n",
              "1            1           0           0            1            0            0\n",
              "2            0           0           1            0            0            1\n",
              "3            0           1           0            0            0            1\n",
              "4            0           0           1            0            0            1\n",
              "..         ...         ...         ...          ...          ...          ...\n",
              "70           1           0           0            1            0            0\n",
              "71           0           1           0            0            1            0\n",
              "72           0           1           0            0            1            0\n",
              "73           0           0           1            0            0            1\n",
              "74           0           0           1            0            0            1\n",
              "\n",
              "[75 rows x 6 columns]"
            ]
          },
          "metadata": {
            "tags": []
          },
          "execution_count": 75
        }
      ]
    },
    {
      "cell_type": "code",
      "metadata": {
        "id": "f40MuYP8YaWh",
        "colab_type": "code",
        "colab": {
          "base_uri": "https://localhost:8080/",
          "height": 1000
        },
        "outputId": "de667cef-21c3-4afc-9b42-13b95edebdb5"
      },
      "source": [
        "y_prob"
      ],
      "execution_count": 76,
      "outputs": [
        {
          "output_type": "execute_result",
          "data": {
            "text/plain": [
              "array([[3.57608598e-03, 9.63876831e-01, 3.25470833e-02],\n",
              "       [9.86178886e-01, 1.38211106e-02, 3.29029198e-09],\n",
              "       [8.70006042e-07, 5.06298326e-02, 9.49369297e-01],\n",
              "       [2.30651372e-03, 6.08702261e-01, 3.88991226e-01],\n",
              "       [3.19880849e-06, 3.25808401e-02, 9.67415961e-01],\n",
              "       [9.83549716e-01, 1.64502669e-02, 1.71609410e-08],\n",
              "       [6.23846176e-07, 6.28185706e-03, 9.93717519e-01],\n",
              "       [1.38972055e-02, 9.77150786e-01, 8.95200802e-03],\n",
              "       [1.18169731e-03, 9.32941263e-01, 6.58770397e-02],\n",
              "       [9.88750166e-01, 1.12498313e-02, 2.54026316e-09],\n",
              "       [7.68869170e-06, 2.77894236e-02, 9.72202888e-01],\n",
              "       [1.49419218e-04, 2.31143689e-01, 7.68706891e-01],\n",
              "       [1.12778706e-04, 5.78714708e-01, 4.21172513e-01],\n",
              "       [3.21753035e-03, 9.59528939e-01, 3.72535302e-02],\n",
              "       [1.55002595e-05, 1.07760231e-01, 8.92224269e-01],\n",
              "       [9.54298069e-02, 9.03643464e-01, 9.26728855e-04],\n",
              "       [3.82899920e-06, 1.49636010e-01, 8.50360161e-01],\n",
              "       [1.22399307e-03, 8.52944369e-01, 1.45831638e-01],\n",
              "       [3.32767149e-07, 3.16573809e-03, 9.96833929e-01],\n",
              "       [1.46991512e-05, 3.89406376e-02, 9.61044663e-01],\n",
              "       [6.59858345e-03, 9.60288901e-01, 3.31125154e-02],\n",
              "       [9.89286809e-01, 1.07131889e-02, 2.36789496e-09],\n",
              "       [5.51760117e-05, 1.99474133e-01, 8.00470691e-01],\n",
              "       [8.24070700e-08, 1.81277922e-02, 9.81872125e-01],\n",
              "       [8.61881052e-03, 9.22338059e-01, 6.90431306e-02],\n",
              "       [6.61679533e-09, 1.35568782e-03, 9.98644306e-01],\n",
              "       [9.96834807e-01, 3.16519260e-03, 1.47415525e-10],\n",
              "       [6.43187266e-06, 4.42603592e-02, 9.55733209e-01],\n",
              "       [9.91897820e-01, 8.10217935e-03, 9.31133622e-10],\n",
              "       [1.87985108e-02, 9.78776001e-01, 2.42548788e-03],\n",
              "       [2.63792492e-03, 9.36798108e-01, 6.05639671e-02],\n",
              "       [9.85782505e-01, 1.42174926e-02, 2.49469725e-09],\n",
              "       [5.60949206e-03, 8.04789461e-01, 1.89601047e-01],\n",
              "       [9.82303044e-01, 1.76969515e-02, 4.17736504e-09],\n",
              "       [2.50105581e-03, 8.56260417e-01, 1.41238527e-01],\n",
              "       [9.87546436e-01, 1.24535619e-02, 1.71161871e-09],\n",
              "       [9.93685800e-01, 6.31419911e-03, 7.31839689e-10],\n",
              "       [7.32048952e-03, 9.86619293e-01, 6.06021751e-03],\n",
              "       [6.91529044e-06, 1.54944796e-02, 9.84498605e-01],\n",
              "       [1.68724527e-04, 1.49729929e-01, 8.50101347e-01],\n",
              "       [1.02128973e-03, 8.90546415e-01, 1.08432296e-01],\n",
              "       [9.27788623e-04, 4.10752024e-01, 5.88320187e-01],\n",
              "       [9.90682481e-01, 9.31751745e-03, 1.48500230e-09],\n",
              "       [4.69147074e-08, 1.35973310e-03, 9.98640220e-01],\n",
              "       [6.95407099e-06, 8.07007907e-02, 9.19292255e-01],\n",
              "       [4.03262678e-02, 9.58417667e-01, 1.25606512e-03],\n",
              "       [1.48924386e-02, 9.61322858e-01, 2.37847032e-02],\n",
              "       [1.08445075e-03, 9.34608635e-01, 6.43069143e-02],\n",
              "       [7.51009377e-05, 1.29252447e-01, 8.70672452e-01],\n",
              "       [9.90744445e-01, 9.25555377e-03, 1.35798185e-09],\n",
              "       [1.65989191e-05, 1.09833914e-01, 8.90149487e-01],\n",
              "       [2.32963131e-04, 6.77045135e-01, 3.22721902e-01],\n",
              "       [1.30105786e-05, 1.10667218e-01, 8.89319772e-01],\n",
              "       [9.89899632e-01, 1.01003668e-02, 1.56155193e-09],\n",
              "       [7.48944334e-06, 2.04623846e-02, 9.79530126e-01],\n",
              "       [5.60315484e-02, 9.37702226e-01, 6.26622550e-03],\n",
              "       [9.98943042e-01, 1.05695840e-03, 4.81135751e-11],\n",
              "       [1.42004230e-02, 9.80744998e-01, 5.05457948e-03],\n",
              "       [9.96563398e-01, 3.43660177e-03, 2.77388555e-10],\n",
              "       [6.40393321e-04, 8.46229403e-01, 1.53130204e-01],\n",
              "       [1.98238979e-04, 4.43620598e-01, 5.56181163e-01],\n",
              "       [7.58446236e-02, 9.23216580e-01, 9.38796884e-04],\n",
              "       [6.30033800e-05, 1.46291548e-01, 8.53645448e-01],\n",
              "       [1.86280407e-05, 3.32879640e-01, 6.67101732e-01],\n",
              "       [4.42838755e-07, 8.60511140e-03, 9.91394446e-01],\n",
              "       [8.32527424e-07, 4.07725947e-02, 9.59226573e-01],\n",
              "       [9.93845928e-01, 6.15407149e-03, 7.54592736e-10],\n",
              "       [2.99840014e-05, 9.81850294e-02, 9.01784987e-01],\n",
              "       [2.30023025e-02, 9.50454143e-01, 2.65435547e-02],\n",
              "       [2.61382791e-02, 9.72063984e-01, 1.79773714e-03],\n",
              "       [9.88830771e-01, 1.11692270e-02, 2.14704350e-09],\n",
              "       [2.88938133e-03, 9.39470642e-01, 5.76399765e-02],\n",
              "       [3.07642494e-03, 8.76987483e-01, 1.19936092e-01],\n",
              "       [6.30033800e-05, 1.46291548e-01, 8.53645448e-01],\n",
              "       [9.88612975e-07, 1.35377110e-02, 9.86461300e-01]])"
            ]
          },
          "metadata": {
            "tags": []
          },
          "execution_count": 76
        }
      ]
    },
    {
      "cell_type": "code",
      "metadata": {
        "id": "eflNG78hhsOI",
        "colab_type": "code",
        "colab": {
          "base_uri": "https://localhost:8080/",
          "height": 1000
        },
        "outputId": "36c44fe6-2992-4e3c-d848-3c67ae3e301a"
      },
      "source": [
        "Fo_t"
      ],
      "execution_count": 77,
      "outputs": [
        {
          "output_type": "execute_result",
          "data": {
            "text/plain": [
              "array([[ 2.46595659e-02, -4.11077892e-02,  3.50826754e-03],\n",
              "       [ 1.06980775e-02, -2.59828434e-02,  3.50826754e-03],\n",
              "       [-7.35358970e-03, -1.18553922e-02,  2.31404323e-03],\n",
              "       [ 1.06980775e-02, -2.71463008e-02,  3.50826754e-03],\n",
              "       [-5.60792831e-03, -1.18553922e-02,  2.31404323e-03],\n",
              "       [-2.19007680e-02,  1.52801181e-03,  2.31404323e-03],\n",
              "       [ 3.25129032e-02, -1.92929636e-02,  2.53230932e-02],\n",
              "       [-1.57628041e-01,  1.53567632e-01,  1.36052756e-02],\n",
              "       [-4.81331327e-02, -6.58857383e-02, -6.94170527e-02],\n",
              "       [ 3.25129032e-02, -1.92929636e-02,  2.53230932e-02],\n",
              "       [-8.00005641e-05,  9.96537521e-03,  2.41348106e-02],\n",
              "       [-8.00005641e-05,  9.96537521e-03,  2.41348106e-02],\n",
              "       [-8.00005641e-05,  9.96537521e-03,  2.41348106e-02],\n",
              "       [-4.81331327e-02, -6.58857383e-02, -6.94170527e-02],\n",
              "       [-4.81331327e-02, -6.58857383e-02, -6.94170527e-02],\n",
              "       [ 3.25129032e-02, -1.92929636e-02,  2.53230932e-02],\n",
              "       [-4.81331327e-02, -6.58857383e-02, -6.94170527e-02],\n",
              "       [-1.57628041e-01,  1.53567632e-01,  1.36052756e-02],\n",
              "       [ 3.25129032e-02, -1.92929636e-02,  2.53230932e-02],\n",
              "       [-4.81331327e-02, -6.58857383e-02, -6.94170527e-02],\n",
              "       [ 3.25129032e-02, -1.92929636e-02,  2.53230932e-02],\n",
              "       [-4.81331327e-02, -6.58857383e-02, -6.94170527e-02],\n",
              "       [-8.00005641e-05,  9.96537521e-03,  2.41348106e-02],\n",
              "       [-8.00005641e-05,  9.96537521e-03,  2.41348106e-02],\n",
              "       [-8.00005641e-05,  9.96537521e-03,  2.41348106e-02],\n",
              "       [-4.81331327e-02, -6.58857383e-02, -6.94170527e-02],\n",
              "       [ 3.25129032e-02, -1.92929636e-02,  2.53230932e-02],\n",
              "       [-8.00005641e-05,  9.96537521e-03,  2.41348106e-02],\n",
              "       [ 3.25129032e-02, -1.92929636e-02,  2.53230932e-02],\n",
              "       [ 3.25129032e-02, -1.92929636e-02,  2.53230932e-02],\n",
              "       [-4.81331327e-02, -6.58857383e-02, -6.94170527e-02],\n",
              "       [-8.00005641e-05,  9.96537521e-03,  2.41348106e-02],\n",
              "       [ 3.25129032e-02, -1.92929636e-02,  2.53230932e-02],\n",
              "       [ 3.25129032e-02, -1.92929636e-02,  2.53230932e-02],\n",
              "       [-4.81331327e-02, -6.58857383e-02, -6.94170527e-02],\n",
              "       [ 3.25129032e-02, -1.92929636e-02,  2.53230932e-02],\n",
              "       [ 3.25129032e-02, -1.92929636e-02,  2.53230932e-02],\n",
              "       [-8.00005641e-05,  9.96537521e-03,  2.41348106e-02],\n",
              "       [ 3.25129032e-02, -1.92929636e-02,  2.53230932e-02],\n",
              "       [ 3.25129032e-02, -1.92929636e-02,  2.53230932e-02],\n",
              "       [-4.81331327e-02, -6.58857383e-02, -6.94170527e-02],\n",
              "       [ 3.25129032e-02, -1.92929636e-02,  2.53230932e-02],\n",
              "       [-4.81331327e-02, -6.58857383e-02, -6.94170527e-02],\n",
              "       [-8.00005641e-05,  9.96537521e-03,  2.41348106e-02],\n",
              "       [ 3.25129032e-02, -1.92929636e-02,  2.53230932e-02],\n",
              "       [ 3.25129032e-02, -1.92929636e-02,  2.53230932e-02],\n",
              "       [-8.00005641e-05,  9.96537521e-03,  2.41348106e-02],\n",
              "       [ 3.25129032e-02, -1.92929636e-02,  2.53230932e-02],\n",
              "       [-8.00005641e-05,  9.96537521e-03,  2.41348106e-02],\n",
              "       [-8.00005641e-05,  9.96537521e-03,  2.41348106e-02],\n",
              "       [ 3.25129032e-02, -1.92929636e-02,  2.53230932e-02],\n",
              "       [-4.81331327e-02, -6.58857383e-02, -6.94170527e-02],\n",
              "       [ 3.25129032e-02, -1.92929636e-02,  2.53230932e-02],\n",
              "       [-4.81331327e-02, -6.58857383e-02, -6.94170527e-02],\n",
              "       [-8.00005641e-05,  9.96537521e-03,  2.41348106e-02],\n",
              "       [-4.81331327e-02, -6.58857383e-02, -6.94170527e-02],\n",
              "       [-4.81331327e-02, -6.58857383e-02, -6.94170527e-02],\n",
              "       [-8.00005641e-05,  9.96537521e-03,  2.41348106e-02],\n",
              "       [ 3.25129032e-02, -1.92929636e-02,  2.53230932e-02],\n",
              "       [-8.00005641e-05,  9.96537521e-03,  2.41348106e-02],\n",
              "       [ 3.25129032e-02, -1.92929636e-02,  2.53230932e-02],\n",
              "       [-4.81331327e-02, -6.58857383e-02, -6.94170527e-02],\n",
              "       [-4.81331327e-02, -6.58857383e-02, -6.94170527e-02],\n",
              "       [-8.00005641e-05,  9.96537521e-03,  2.41348106e-02],\n",
              "       [-8.00005641e-05,  9.96537521e-03,  2.41348106e-02],\n",
              "       [-4.81331327e-02, -6.58857383e-02, -6.94170527e-02],\n",
              "       [-8.00005641e-05,  9.96537521e-03,  2.41348106e-02],\n",
              "       [-8.00005641e-05,  9.96537521e-03,  2.41348106e-02],\n",
              "       [-8.00005641e-05,  9.96537521e-03,  2.41348106e-02],\n",
              "       [-8.00005641e-05,  9.96537521e-03,  2.41348106e-02],\n",
              "       [-1.57628041e-01,  1.53567632e-01,  1.36052756e-02],\n",
              "       [ 3.25129032e-02, -1.92929636e-02,  2.53230932e-02],\n",
              "       [-1.57628041e-01,  1.53567632e-01,  1.36052756e-02],\n",
              "       [-4.81331327e-02, -6.58857383e-02, -6.94170527e-02],\n",
              "       [ 3.25129032e-02, -1.92929636e-02,  2.53230932e-02]])"
            ]
          },
          "metadata": {
            "tags": []
          },
          "execution_count": 77
        }
      ]
    },
    {
      "cell_type": "code",
      "metadata": {
        "id": "wH8SO53QU4GK",
        "colab_type": "code",
        "colab": {}
      },
      "source": [
        "m=np.array(df)\n",
        "s=np.zeros(shape=(m.shape[0],m.shape[0]))\n",
        "for i in range(m.shape[0]):\n",
        "  for j in range(m.shape[0]):\n",
        "    if i!=j:\n",
        "      sum1=0\n",
        "      for k in range(2,m.shape[1]):\n",
        "        sum1=sum1+(m[i][k]*m[j][k])\n",
        "      s[i][j]=sum1\n",
        "w=s\n",
        "d=np.zeros(shape=w.shape[0])"
      ],
      "execution_count": 0,
      "outputs": []
    },
    {
      "cell_type": "code",
      "metadata": {
        "id": "rG-izjB6bIYS",
        "colab_type": "code",
        "outputId": "a86bb887-46d8-450a-ea86-674a230141be",
        "colab": {
          "base_uri": "https://localhost:8080/",
          "height": 238
        }
      },
      "source": [
        "for i in range(d.shape[0]):\n",
        "  d[i]=np.sum(w[i],axis=0)\n",
        "wnew=w/d.reshape(d.shape[0],1)\n",
        "Km=wnew\n",
        "Km\n"
      ],
      "execution_count": 79,
      "outputs": [
        {
          "output_type": "execute_result",
          "data": {
            "text/plain": [
              "array([[0.        , 0.        , 0.        , ..., 0.03703704, 0.        ,\n",
              "        0.        ],\n",
              "       [0.        , 0.        , 0.        , ..., 0.        , 0.        ,\n",
              "        0.        ],\n",
              "       [0.        , 0.        , 0.        , ..., 0.        , 0.03448276,\n",
              "        0.03448276],\n",
              "       ...,\n",
              "       [0.03703704, 0.        , 0.        , ..., 0.        , 0.        ,\n",
              "        0.        ],\n",
              "       [0.        , 0.        , 0.03448276, ..., 0.        , 0.        ,\n",
              "        0.03448276],\n",
              "       [0.        , 0.        , 0.03448276, ..., 0.        , 0.03448276,\n",
              "        0.        ]])"
            ]
          },
          "metadata": {
            "tags": []
          },
          "execution_count": 79
        }
      ]
    },
    {
      "cell_type": "code",
      "metadata": {
        "id": "-y5Os1YObN9k",
        "colab_type": "code",
        "outputId": "12b2a61a-9f48-4c18-a4eb-fd957eda0565",
        "colab": {
          "base_uri": "https://localhost:8080/",
          "height": 306
        }
      },
      "source": [
        "print(np.sum(Km,axis=1))\n",
        "print(np.sum(Km,axis=0))"
      ],
      "execution_count": 80,
      "outputs": [
        {
          "output_type": "stream",
          "text": [
            "[1. 1. 1. 1. 1. 1. 1. 1. 1. 1. 1. 1. 1. 1. 1. 1. 1. 1. 1. 1. 1. 1. 1. 1.\n",
            " 1. 1. 1. 1. 1. 1. 1. 1. 1. 1. 1. 1. 1. 1. 1. 1. 1. 1. 1. 1. 1. 1. 1. 1.\n",
            " 1. 1. 1. 1. 1. 1. 1. 1. 1. 1. 1. 1. 1. 1. 1. 1. 1. 1. 1. 1. 1. 1. 1. 1.\n",
            " 1. 1. 1.]\n",
            "[0.98082011 1.         1.01785714 0.5        1.01785714 1.\n",
            " 1.01785714 0.98082011 0.98082011 1.         1.01785714 1.01785714\n",
            " 0.98082011 0.98082011 1.01785714 0.98082011 1.5        0.98082011\n",
            " 1.01785714 1.01785714 0.98082011 1.         1.01785714 1.01785714\n",
            " 0.98082011 1.01785714 1.         1.01785714 1.         0.98082011\n",
            " 0.98082011 1.         0.98082011 1.         0.98082011 1.\n",
            " 1.         0.98082011 1.01785714 1.01785714 0.98082011 1.01785714\n",
            " 1.         1.01785714 1.01785714 0.98082011 0.98082011 0.98082011\n",
            " 1.01785714 1.         1.01785714 0.98082011 1.01785714 1.\n",
            " 1.01785714 0.98082011 1.         0.98082011 1.         0.98082011\n",
            " 1.01785714 0.98082011 1.01785714 1.01785714 1.01785714 1.01785714\n",
            " 1.         1.01785714 0.98082011 0.98082011 1.         0.98082011\n",
            " 0.98082011 1.01785714 1.01785714]\n"
          ],
          "name": "stdout"
        }
      ]
    },
    {
      "cell_type": "code",
      "metadata": {
        "id": "Z1V-98pImkVa",
        "colab_type": "code",
        "colab": {}
      },
      "source": [
        "\n",
        "m=m.dot(m.T)  \n",
        "s=np.zeros(shape=(m.shape[0],m.shape[0]))\n",
        "for i in range(m.shape[0]):\n",
        "  for j in range(m.shape[0]):\n",
        "    if i!=j:\n",
        "      sum1=0\n",
        "      for k in range(2,m.shape[1]):\n",
        "        sum1=sum1+(m[i][k]*m[j][k])\n",
        "      s[i][j]=sum1   \n"
      ],
      "execution_count": 0,
      "outputs": []
    },
    {
      "cell_type": "code",
      "metadata": {
        "id": "j40zOKQ-mnOz",
        "colab_type": "code",
        "outputId": "aefbfad0-1ffe-48dd-a229-912c7e9f15fb",
        "colab": {
          "base_uri": "https://localhost:8080/",
          "height": 238
        }
      },
      "source": [
        "d=np.zeros(shape=w.shape[0])\n",
        "w=s\n",
        "for i in range(d.shape[0]):\n",
        "  d[i]=np.sum(w[i],axis=0)\n",
        "wnew=w/d.reshape(d.shape[0],1)  \n",
        "Kc=wnew\n",
        "Kc"
      ],
      "execution_count": 82,
      "outputs": [
        {
          "output_type": "execute_result",
          "data": {
            "text/plain": [
              "array([[0.        , 0.        , 0.00068446, ..., 0.03627652, 0.00068446,\n",
              "        0.00068446],\n",
              "       [0.        , 0.        , 0.        , ..., 0.        , 0.        ,\n",
              "        0.        ],\n",
              "       [0.00057504, 0.        , 0.        , ..., 0.00057504, 0.03392754,\n",
              "        0.03392754],\n",
              "       ...,\n",
              "       [0.03627652, 0.        , 0.00068446, ..., 0.        , 0.00068446,\n",
              "        0.00068446],\n",
              "       [0.00057504, 0.        , 0.03392754, ..., 0.00057504, 0.        ,\n",
              "        0.03392754],\n",
              "       [0.00057504, 0.        , 0.03392754, ..., 0.00057504, 0.03392754,\n",
              "        0.        ]])"
            ]
          },
          "metadata": {
            "tags": []
          },
          "execution_count": 82
        }
      ]
    },
    {
      "cell_type": "markdown",
      "metadata": {
        "id": "SAFnKTDscdnX",
        "colab_type": "text"
      },
      "source": [
        "**Same, checking for bi-stochastic behaviour**"
      ]
    },
    {
      "cell_type": "code",
      "metadata": {
        "id": "DlvTfnrF2Smi",
        "colab_type": "code",
        "outputId": "99807963-b8b8-44ff-f04e-8c1d7876d37a",
        "colab": {
          "base_uri": "https://localhost:8080/",
          "height": 102
        }
      },
      "source": [
        "  np.sum(Kc,axis=1)"
      ],
      "execution_count": 83,
      "outputs": [
        {
          "output_type": "execute_result",
          "data": {
            "text/plain": [
              "array([1., 1., 1., 1., 1., 1., 1., 1., 1., 1., 1., 1., 1., 1., 1., 1., 1.,\n",
              "       1., 1., 1., 1., 1., 1., 1., 1., 1., 1., 1., 1., 1., 1., 1., 1., 1.,\n",
              "       1., 1., 1., 1., 1., 1., 1., 1., 1., 1., 1., 1., 1., 1., 1., 1., 1.,\n",
              "       1., 1., 1., 1., 1., 1., 1., 1., 1., 1., 1., 1., 1., 1., 1., 1., 1.,\n",
              "       1., 1., 1., 1., 1., 1., 1.])"
            ]
          },
          "metadata": {
            "tags": []
          },
          "execution_count": 83
        }
      ]
    },
    {
      "cell_type": "markdown",
      "metadata": {
        "id": "qmJ1FML0ckLi",
        "colab_type": "text"
      },
      "source": [
        "**Generating Fg and Fo i'e the Group class matrix and Object Class matrix**"
      ]
    },
    {
      "cell_type": "code",
      "metadata": {
        "id": "DTO5d9Ay2Xc5",
        "colab_type": "code",
        "outputId": "893b04d5-3342-43c1-d781-b860c70b7c80",
        "colab": {
          "base_uri": "https://localhost:8080/",
          "height": 54
        }
      },
      "source": [
        "\n",
        "objclass_mat1=pd.DataFrame(y_prob)\n",
        "objclass_mat2=pd.DataFrame(y_prob3,columns=['Cat1','Cat2','Cat3'])\n",
        "df_t=pd.DataFrame(objclass_mat1)\n",
        "Fo=np.array(df_t)\n",
        "'''gpclass_mat=pd.DataFrame(columns=['Cat1','Cat2','Cat3'])\n",
        "prob1s=np.sum(objclass_mat1.Survived)/len(objclass_mat1)\n",
        "prob1ns=np.sum(objclass_mat1.NotSurvived)/len(objclass_mat1)\n",
        "prob2s=np.sum(objclass_mat2.Survived)/len(objclass_mat2)\n",
        "prob2ns=np.sum(objclass_mat2.NotSurvived)/len(objclass_mat2)\n",
        "list1=[]\n",
        "list1.append(prob1s)\n",
        "list1.append(prob1ns)\n",
        "list1.append(prob2s)\n",
        "list1.append(prob2ns)\n",
        "\n",
        "list2=[]\n",
        "list2.append(prob1ns)\n",
        "list2.append(prob1s)\n",
        "list2.append(prob2ns)\n",
        "list2.append(prob2s)\n",
        "gpclass_mat['Survived']=list1\n",
        "gpclass_mat['NotSurvived']=list2\n",
        "gpclass_mat\n",
        "Fg=np.array(gpclass_mat)\n",
        "Fg'''"
      ],
      "execution_count": 84,
      "outputs": [
        {
          "output_type": "execute_result",
          "data": {
            "text/plain": [
              "\"gpclass_mat=pd.DataFrame(columns=['Cat1','Cat2','Cat3'])\\nprob1s=np.sum(objclass_mat1.Survived)/len(objclass_mat1)\\nprob1ns=np.sum(objclass_mat1.NotSurvived)/len(objclass_mat1)\\nprob2s=np.sum(objclass_mat2.Survived)/len(objclass_mat2)\\nprob2ns=np.sum(objclass_mat2.NotSurvived)/len(objclass_mat2)\\nlist1=[]\\nlist1.append(prob1s)\\nlist1.append(prob1ns)\\nlist1.append(prob2s)\\nlist1.append(prob2ns)\\n\\nlist2=[]\\nlist2.append(prob1ns)\\nlist2.append(prob1s)\\nlist2.append(prob2ns)\\nlist2.append(prob2s)\\ngpclass_mat['Survived']=list1\\ngpclass_mat['NotSurvived']=list2\\ngpclass_mat\\nFg=np.array(gpclass_mat)\\nFg\""
            ]
          },
          "metadata": {
            "tags": []
          },
          "execution_count": 84
        }
      ]
    },
    {
      "cell_type": "markdown",
      "metadata": {
        "id": "JRxO_k8tct-4",
        "colab_type": "text"
      },
      "source": [
        "**Similarly, generating  Yo and Yg**"
      ]
    },
    {
      "cell_type": "code",
      "metadata": {
        "id": "ovw7WJ7S2pQc",
        "colab_type": "code",
        "colab": {}
      },
      "source": [
        "n=2\n",
        "C=survived.shape[1]\n",
        "G=survived.shape[1]*n\n",
        "\n",
        "Yo=np.zeros(shape=(df.shape[0],C))\n",
        "cal_y=np.array(df)\n",
        "for i in range(Yo.shape[0]):\n",
        "  Yo[i][0]=(cal_y[i][0]+cal_y[i][2]+cal_y[i][4])/C\n",
        "for i in range(Yo.shape[0]):\n",
        "  Yo[i][1]=(cal_y[i][1]+cal_y[i][3]+cal_y[i][5])/C"
      ],
      "execution_count": 0,
      "outputs": []
    },
    {
      "cell_type": "code",
      "metadata": {
        "id": "5SR3KDg3q87U",
        "colab_type": "code",
        "outputId": "706b65c2-2c17-4997-bc47-cc8f687a1f6a",
        "colab": {
          "base_uri": "https://localhost:8080/",
          "height": 136
        }
      },
      "source": [
        "c=np.sum(df,axis=0)\n",
        "c"
      ],
      "execution_count": 90,
      "outputs": [
        {
          "output_type": "execute_result",
          "data": {
            "text/plain": [
              "Survived_0     17\n",
              "Survived_1     28\n",
              "Survived_2     30\n",
              "Surviveds_0    17\n",
              "Surviveds_1    28\n",
              "Surviveds_2    30\n",
              "dtype: int64"
            ]
          },
          "metadata": {
            "tags": []
          },
          "execution_count": 90
        }
      ]
    },
    {
      "cell_type": "code",
      "metadata": {
        "id": "hYZkiSfs2w2I",
        "colab_type": "code",
        "outputId": "2b7c313a-0149-4ddf-d929-74f866b2201c",
        "colab": {
          "base_uri": "https://localhost:8080/",
          "height": 119
        }
      },
      "source": [
        "m=np.array(df)\n",
        "Yg=np.zeros(shape=(m.shape[1],3))\n",
        "c=np.sum(df,axis=0)\n",
        "for i in range(Yg.shape[0]):\n",
        "  if i%2==0:\n",
        "    Yg[i][0]=c[i]/m.shape[0]\n",
        "    Yg[i][1]=(1-Yg[i][0])/2\n",
        "    Yg[i][2]=(1-Yg[i][0])/2\n",
        "  elif i%3==0:\n",
        "    Yg[i][2]=c[i]/m.shape[0]\n",
        "    Yg[i][0]=(1-Yg[i][2])/2\n",
        "    Yg[i][1]=(1-Yg[i][2])/2  \n",
        "  else:\n",
        "    Yg[i][1]=c[i]/m.shape[0]\n",
        "    Yg[i][0]=(1-Yg[i][1])/2\n",
        "    Yg[i][2]=(1-Yg[i][1])/2\n",
        "Yg    "
      ],
      "execution_count": 110,
      "outputs": [
        {
          "output_type": "execute_result",
          "data": {
            "text/plain": [
              "array([[0.22666667, 0.38666667, 0.38666667],\n",
              "       [0.31333333, 0.37333333, 0.31333333],\n",
              "       [0.4       , 0.3       , 0.3       ],\n",
              "       [0.38666667, 0.38666667, 0.22666667],\n",
              "       [0.37333333, 0.31333333, 0.31333333],\n",
              "       [0.3       , 0.4       , 0.3       ]])"
            ]
          },
          "metadata": {
            "tags": []
          },
          "execution_count": 110
        }
      ]
    },
    {
      "cell_type": "markdown",
      "metadata": {
        "id": "rTa6_2DsdIlO",
        "colab_type": "text"
      },
      "source": [
        "Genearting "
      ]
    },
    {
      "cell_type": "markdown",
      "metadata": {
        "id": "0hcY4DpgduI4",
        "colab_type": "text"
      },
      "source": [
        "Checking for the conditions specified in eq 6"
      ]
    },
    {
      "cell_type": "code",
      "metadata": {
        "id": "QHAljZHU21jH",
        "colab_type": "code",
        "outputId": "fe949dbf-651b-459e-977f-752fa29ab520",
        "colab": {
          "base_uri": "https://localhost:8080/",
          "height": 51
        }
      },
      "source": [
        "Fo_cond=True\n",
        "Fg_cond=True\n",
        "for i in range(Fo.shape[0]):\n",
        "  if np.linalg.norm((Fo[i]), ord=1)!=1:\n",
        "    Fo_cond=False\n",
        "'''for i in range(Fg.shape[0]):\n",
        "  if np.linalg.norm((Fg[i]), ord=1)!=1:\n",
        "    Fo_cond=False   ''' \n",
        "print(Fo_cond)\n",
        "print(Fg_cond)"
      ],
      "execution_count": 111,
      "outputs": [
        {
          "output_type": "stream",
          "text": [
            "False\n",
            "True\n"
          ],
          "name": "stdout"
        }
      ]
    },
    {
      "cell_type": "markdown",
      "metadata": {
        "id": "T7YlgtdbeCFc",
        "colab_type": "text"
      },
      "source": [
        "**Generating diagonal matrices Dm and Dc**"
      ]
    },
    {
      "cell_type": "code",
      "metadata": {
        "id": "a8cG1naJ3Cbk",
        "colab_type": "code",
        "outputId": "998d4b0b-7a1e-4517-9bc9-96dc27e7f40d",
        "colab": {
          "base_uri": "https://localhost:8080/",
          "height": 51
        }
      },
      "source": [
        "test_dm=np.zeros(shape=(Km.shape))\n",
        "test_Km=Km\n",
        "for i in range(test_Km.shape[0]):\n",
        "  test_dm[i]=np.sum(test_Km[i],axis=0)\n",
        "Dm=np.diag(np.diag(test_dm))\n",
        "print(\"Shape of DM\",Dm.shape)\n",
        "test_dc=np.zeros(shape=(Kc.shape))\n",
        "test_Kc=Kc\n",
        "for i in range(test_Kc.shape[0]):\n",
        "  test_dc[i]=np.sum(test_Kc[i],axis=0)\n",
        "Dc=np.diag(np.diag(test_dc))\n",
        "print(\"shape of Dc\",Dc.shape)"
      ],
      "execution_count": 112,
      "outputs": [
        {
          "output_type": "stream",
          "text": [
            "Shape of DM (75, 75)\n",
            "shape of Dc (75, 75)\n"
          ],
          "name": "stdout"
        }
      ]
    },
    {
      "cell_type": "code",
      "metadata": {
        "id": "Bv1sYezy3Hwa",
        "colab_type": "code",
        "outputId": "3121c729-e759-4954-842c-87782d3607fb",
        "colab": {
          "base_uri": "https://localhost:8080/",
          "height": 136
        }
      },
      "source": [
        "print(\"KHM\",Km.shape)\n",
        "print(\"KHC\",Kc.shape)\n",
        "print(\"Fo\",Fo.shape)\n",
        "print(\"Yo\",Yo.shape)\n",
        "print(\"Yg\",Yg.shape)\n",
        "print(\"Dm\",Dm.shape)\n",
        "print(\"Dc\",Dc.shape)"
      ],
      "execution_count": 113,
      "outputs": [
        {
          "output_type": "stream",
          "text": [
            "KHM (75, 75)\n",
            "KHC (75, 75)\n",
            "Fo (75, 3)\n",
            "Yo (75, 3)\n",
            "Yg (6, 3)\n",
            "Dm (75, 75)\n",
            "Dc (75, 75)\n"
          ],
          "name": "stdout"
        }
      ]
    },
    {
      "cell_type": "code",
      "metadata": {
        "id": "dCBI0yrwqzOB",
        "colab_type": "code",
        "colab": {}
      },
      "source": [
        "\n"
      ],
      "execution_count": 0,
      "outputs": []
    },
    {
      "cell_type": "code",
      "metadata": {
        "id": "I5InaYBP3Lfq",
        "colab_type": "code",
        "outputId": "46b84876-8639-4253-8b08-f3825ea44f62",
        "colab": {
          "base_uri": "https://localhost:8080/",
          "height": 34
        }
      },
      "source": [
        "\n",
        "Yg=np.pad(Yg,pad_width=[(0, Km.shape[0]-G), (0, 0)])\n",
        "Yg.shape"
      ],
      "execution_count": 114,
      "outputs": [
        {
          "output_type": "execute_result",
          "data": {
            "text/plain": [
              "(75, 3)"
            ]
          },
          "metadata": {
            "tags": []
          },
          "execution_count": 114
        }
      ]
    },
    {
      "cell_type": "code",
      "metadata": {
        "id": "Ro1G66qS5Pzv",
        "colab_type": "code",
        "outputId": "fad89f00-6dc6-47d1-c1b1-d22c72562cd8",
        "colab": {
          "base_uri": "https://localhost:8080/",
          "height": 136
        }
      },
      "source": [
        "print(\"KHM\",Km.shape)\n",
        "print(\"KHC\",Kc.shape)\n",
        "print(\"Fo\",Fo.shape)\n",
        "'''print(\"Fg\",Fg.shape)'''\n",
        "print(\"Yo\",Yo.shape)\n",
        "print(\"Yg\",Yg.shape)\n",
        "print(\"Dm\",Dm.shape)\n",
        "print(\"Dc\",Dc.shape)"
      ],
      "execution_count": 115,
      "outputs": [
        {
          "output_type": "stream",
          "text": [
            "KHM (75, 75)\n",
            "KHC (75, 75)\n",
            "Fo (75, 3)\n",
            "Yo (75, 3)\n",
            "Yg (75, 3)\n",
            "Dm (75, 75)\n",
            "Dc (75, 75)\n"
          ],
          "name": "stdout"
        }
      ]
    },
    {
      "cell_type": "code",
      "metadata": {
        "id": "4OVQOQf35Tb7",
        "colab_type": "code",
        "colab": {}
      },
      "source": [
        "import sys\n",
        "threshold=sys.float_info.epsilon"
      ],
      "execution_count": 0,
      "outputs": []
    },
    {
      "cell_type": "code",
      "metadata": {
        "id": "x2yQviy9gmJi",
        "colab_type": "code",
        "colab": {}
      },
      "source": [
        "from numpy import linalg as LA"
      ],
      "execution_count": 0,
      "outputs": []
    },
    {
      "cell_type": "markdown",
      "metadata": {
        "id": "oTILUgDfeX91",
        "colab_type": "text"
      },
      "source": [
        "**Implementing algorithm 2**"
      ]
    },
    {
      "cell_type": "code",
      "metadata": {
        "id": "NaOULbFt5XBQ",
        "colab_type": "code",
        "colab": {}
      },
      "source": [
        "alpha=0.25\n",
        "beta=0.35\n",
        "gamma=0.40\n",
        "delta=0\n",
        "Fg=Yg\n",
        "Fo_t=np.zeros(shape=Fo.shape)\n",
        "Fg_t=np.zeros(shape=Fg.shape)\n",
        "Fot_old=np.zeros(shape=Fo.shape)\n",
        "Fo_t=Fo\n",
        "Fg_t=Fg\n",
        "while LA.norm((Fo_t-Fot_old),'fro')>threshold:\n",
        "  Fot_old=Fo_t\n",
        "  Fg_t=np.matmul((np.linalg.inv(2*delta*np.ones(shape=Dm.shape)+(alpha*Dm))),((alpha*np.matmul(Km,Fo_t))+(2*delta*Yg)))\n",
        "  Fo_t=np.matmul((np.linalg.inv((alpha*Dm)+(2*beta*Dc)-(beta*np.matmul(np.identity(Kc.shape[0]),Kc))-(beta*np.matmul(np.ones(shape=Kc.shape),Kc))+(2*gamma*np.identity(Kc.shape[0])))),((alpha*np.matmul(Km,Fg_t))+(2*gamma*Yo)))"
      ],
      "execution_count": 0,
      "outputs": []
    },
    {
      "cell_type": "code",
      "metadata": {
        "id": "ZhH4nVo_5e6_",
        "colab_type": "code",
        "outputId": "616fc4c8-285a-4260-b14a-4292044e4692",
        "colab": {
          "base_uri": "https://localhost:8080/",
          "height": 54
        }
      },
      "source": [
        "from sklearn.metrics import accuracy_score,roc_auc_score\n",
        "result=np.zeros(shape=Fo_t.shape[0])\n",
        "for i in range(Fo_t.shape[0]):\n",
        "  result[i]=np.argmax(Fo_t[i])\n",
        "'''print(\"Accuracy value for Ensemble model\",accuracy_score(y_val,result))\n",
        "print(\"AUC for for Ensemble model\",roc_auc_score(y_val,result))\n",
        "print(\"Accuracy value for LR\",accuracy_score(y_val,ypred))\n",
        "print(\"AUC for for LR\",roc_auc_score(y_val,ypred))'''\n"
      ],
      "execution_count": 119,
      "outputs": [
        {
          "output_type": "execute_result",
          "data": {
            "text/plain": [
              "'print(\"Accuracy value for Ensemble model\",accuracy_score(y_val,result))\\nprint(\"AUC for for Ensemble model\",roc_auc_score(y_val,result))\\nprint(\"Accuracy value for LR\",accuracy_score(y_val,ypred))\\nprint(\"AUC for for LR\",roc_auc_score(y_val,ypred))'"
            ]
          },
          "metadata": {
            "tags": []
          },
          "execution_count": 119
        }
      ]
    },
    {
      "cell_type": "markdown",
      "metadata": {
        "id": "cUskNBtfe5C7",
        "colab_type": "text"
      },
      "source": [
        "**We see that the ensemble model performs better than the Random forest, Kneigbours and Svm models and is at par with the Logistic regression model that gives us the best accuracy. **"
      ]
    },
    {
      "cell_type": "code",
      "metadata": {
        "id": "b-wv5VdjiJm4",
        "colab_type": "code",
        "colab": {
          "base_uri": "https://localhost:8080/",
          "height": 34
        },
        "outputId": "8f1b2286-76d7-4e20-e3e7-2d6cfd166c48"
      },
      "source": [
        "print(\"Accuracy value for Ensemble model\",accuracy_score(y_val,result))"
      ],
      "execution_count": 120,
      "outputs": [
        {
          "output_type": "stream",
          "text": [
            "Accuracy value for Ensemble model 0.37333333333333335\n"
          ],
          "name": "stdout"
        }
      ]
    },
    {
      "cell_type": "code",
      "metadata": {
        "id": "nHPEQGi7fiB7",
        "colab_type": "code",
        "colab": {
          "base_uri": "https://localhost:8080/",
          "height": 85
        },
        "outputId": "64d62b9a-db6c-4046-b76c-cf9ceca78409"
      },
      "source": [
        "y_val"
      ],
      "execution_count": 121,
      "outputs": [
        {
          "output_type": "execute_result",
          "data": {
            "text/plain": [
              "array([1, 0, 2, 2, 2, 0, 2, 1, 1, 0, 2, 2, 2, 1, 2, 1, 2, 1, 2, 2, 1, 0,\n",
              "       2, 2, 1, 2, 0, 2, 0, 1, 1, 0, 1, 0, 1, 0, 0, 1, 2, 2, 1, 1, 0, 2,\n",
              "       2, 1, 1, 1, 2, 0, 2, 1, 2, 0, 2, 1, 0, 1, 0, 1, 1, 1, 2, 2, 2, 2,\n",
              "       0, 2, 1, 1, 0, 1, 1, 2, 2])"
            ]
          },
          "metadata": {
            "tags": []
          },
          "execution_count": 121
        }
      ]
    },
    {
      "cell_type": "code",
      "metadata": {
        "id": "wAqxNyL-fnmJ",
        "colab_type": "code",
        "colab": {
          "base_uri": "https://localhost:8080/",
          "height": 102
        },
        "outputId": "e75c50f8-5a9c-4bec-e5b7-0bda85fa2b26"
      },
      "source": [
        "result"
      ],
      "execution_count": 122,
      "outputs": [
        {
          "output_type": "execute_result",
          "data": {
            "text/plain": [
              "array([2., 2., 2., 1., 2., 2., 2., 2., 2., 2., 2., 2., 2., 2., 2., 2., 0.,\n",
              "       2., 2., 2., 2., 2., 2., 2., 2., 2., 2., 2., 2., 2., 2., 2., 2., 2.,\n",
              "       2., 2., 2., 2., 2., 2., 2., 2., 2., 2., 2., 2., 2., 2., 2., 2., 2.,\n",
              "       2., 2., 2., 2., 2., 2., 2., 2., 2., 2., 2., 2., 2., 2., 2., 2., 2.,\n",
              "       2., 2., 2., 2., 2., 2., 2.])"
            ]
          },
          "metadata": {
            "tags": []
          },
          "execution_count": 122
        }
      ]
    },
    {
      "cell_type": "code",
      "metadata": {
        "id": "4eIWZQh0ftJQ",
        "colab_type": "code",
        "colab": {
          "base_uri": "https://localhost:8080/",
          "height": 34
        },
        "outputId": "b152d0bf-e6fc-493c-8a00-4acad047b483"
      },
      "source": [
        "import xgboost as xgb\n",
        "classifier4=xgb.XGBClassifier()\n",
        "classifier4.fit(x_train,y_train)\n",
        "ypred=classifier4.predict(x_val)\n",
        "print(\"Accuracy score of LR\",accuracy_score(y_val,ypred))\n"
      ],
      "execution_count": 67,
      "outputs": [
        {
          "output_type": "stream",
          "text": [
            "Accuracy score of LR 0.9733333333333334\n"
          ],
          "name": "stdout"
        }
      ]
    },
    {
      "cell_type": "code",
      "metadata": {
        "id": "ErxU6UKcgbzI",
        "colab_type": "code",
        "colab": {
          "base_uri": "https://localhost:8080/",
          "height": 34
        },
        "outputId": "1dbd84ed-9094-4c91-a465-fbc62260b9c8"
      },
      "source": [
        "import xgboost as xgb\n",
        "classifier4=RandomForestClassifier()\n",
        "classifier4.fit(x_train,y_train)\n",
        "ypred=classifier4.predict(x_val)\n",
        "print(\"Accuracy score of LR\",accuracy_score(y_val,ypred))"
      ],
      "execution_count": 69,
      "outputs": [
        {
          "output_type": "stream",
          "text": [
            "Accuracy score of LR 0.96\n"
          ],
          "name": "stdout"
        }
      ]
    },
    {
      "cell_type": "code",
      "metadata": {
        "id": "8nJpKhSgl4Rr",
        "colab_type": "code",
        "colab": {
          "base_uri": "https://localhost:8080/",
          "height": 34
        },
        "outputId": "a25852e1-1867-414d-c8f0-de383052cf7f"
      },
      "source": [
        "from sklearn.svm import SVC\n",
        "classifier4=SVC()\n",
        "classifier4.fit(x_train,y_train)\n",
        "ypred=classifier4.predict(x_val)\n",
        "print(\"Accuracy score of LR\",accuracy_score(y_val,ypred))"
      ],
      "execution_count": 70,
      "outputs": [
        {
          "output_type": "stream",
          "text": [
            "Accuracy score of LR 0.9333333333333333\n"
          ],
          "name": "stdout"
        }
      ]
    },
    {
      "cell_type": "code",
      "metadata": {
        "id": "V9eMvTyTmaQJ",
        "colab_type": "code",
        "colab": {}
      },
      "source": [
        ""
      ],
      "execution_count": 0,
      "outputs": []
    }
  ]
}