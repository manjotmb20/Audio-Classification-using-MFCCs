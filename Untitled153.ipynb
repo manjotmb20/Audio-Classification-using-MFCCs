{
  "nbformat": 4,
  "nbformat_minor": 0,
  "metadata": {
    "colab": {
      "name": "Untitled153.ipynb",
      "provenance": [],
      "authorship_tag": "ABX9TyNTOx4kNjqxmH5B0Ppw8rG/",
      "include_colab_link": true
    },
    "kernelspec": {
      "name": "python3",
      "display_name": "Python 3"
    }
  },
  "cells": [
    {
      "cell_type": "markdown",
      "metadata": {
        "id": "view-in-github",
        "colab_type": "text"
      },
      "source": [
        "<a href=\"https://colab.research.google.com/github/manjotmb20/Audio-Classification-using-MFCCs/blob/master/Untitled153.ipynb\" target=\"_parent\"><img src=\"https://colab.research.google.com/assets/colab-badge.svg\" alt=\"Open In Colab\"/></a>"
      ]
    },
    {
      "cell_type": "code",
      "metadata": {
        "id": "lj6R33wIYgSM",
        "colab_type": "code",
        "colab": {}
      },
      "source": [
        "\n",
        "import pandas as pd\n",
        "import numpy as np\n",
        "from sklearn import metrics\n",
        "import matplotlib.pyplot as plt\n",
        "from sklearn import model_selection\n",
        "from sklearn.metrics import classification_report\n",
        "from sklearn.metrics import confusion_matrix\n",
        "from sklearn.metrics import accuracy_score\n",
        "from sklearn.linear_model import LogisticRegression\n",
        "from sklearn.tree import DecisionTreeClassifier\n",
        "from sklearn.ensemble import RandomForestClassifier\n",
        "from sklearn.neighbors import KNeighborsClassifier\n",
        "from sklearn.discriminant_analysis import LinearDiscriminantAnalysis\n",
        "from sklearn.naive_bayes import GaussianNB\n",
        "from sklearn.metrics import roc_curve, auc\n",
        "from sklearn import preprocessing\n",
        "from sklearn import svm\n",
        "from sklearn.model_selection import train_test_split\n",
        "from sklearn import tree"
      ],
      "execution_count": 0,
      "outputs": []
    },
    {
      "cell_type": "code",
      "metadata": {
        "id": "bakYblagVu3g",
        "colab_type": "code",
        "colab": {}
      },
      "source": [
        "from  sklearn import  datasets\n",
        "iris=datasets.load_iris()"
      ],
      "execution_count": 0,
      "outputs": []
    },
    {
      "cell_type": "code",
      "metadata": {
        "id": "Xz0fLqOFpDW5",
        "colab_type": "code",
        "colab": {
          "base_uri": "https://localhost:8080/",
          "height": 34
        },
        "outputId": "b1d67291-804a-4893-ab2d-86dc05904e91"
      },
      "source": [
        "df=pd.read_csv(\"Iris.csv\")\n",
        "len(df)"
      ],
      "execution_count": 3,
      "outputs": [
        {
          "output_type": "execute_result",
          "data": {
            "text/plain": [
              "150"
            ]
          },
          "metadata": {
            "tags": []
          },
          "execution_count": 3
        }
      ]
    },
    {
      "cell_type": "code",
      "metadata": {
        "id": "fSzJSFQcpDUB",
        "colab_type": "code",
        "colab": {
          "base_uri": "https://localhost:8080/",
          "height": 204
        },
        "outputId": "2d520957-3fac-4f93-904d-eb6b5be8dc9b"
      },
      "source": [
        "from sklearn.preprocessing import LabelEncoder\n",
        "lc=LabelEncoder()\n",
        "df['Species']=lc.fit_transform(df['Species'])\n",
        "df.tail()"
      ],
      "execution_count": 4,
      "outputs": [
        {
          "output_type": "execute_result",
          "data": {
            "text/html": [
              "<div>\n",
              "<style scoped>\n",
              "    .dataframe tbody tr th:only-of-type {\n",
              "        vertical-align: middle;\n",
              "    }\n",
              "\n",
              "    .dataframe tbody tr th {\n",
              "        vertical-align: top;\n",
              "    }\n",
              "\n",
              "    .dataframe thead th {\n",
              "        text-align: right;\n",
              "    }\n",
              "</style>\n",
              "<table border=\"1\" class=\"dataframe\">\n",
              "  <thead>\n",
              "    <tr style=\"text-align: right;\">\n",
              "      <th></th>\n",
              "      <th>Id</th>\n",
              "      <th>SepalLengthCm</th>\n",
              "      <th>SepalWidthCm</th>\n",
              "      <th>PetalLengthCm</th>\n",
              "      <th>PetalWidthCm</th>\n",
              "      <th>Species</th>\n",
              "    </tr>\n",
              "  </thead>\n",
              "  <tbody>\n",
              "    <tr>\n",
              "      <th>145</th>\n",
              "      <td>146</td>\n",
              "      <td>6.7</td>\n",
              "      <td>3.0</td>\n",
              "      <td>5.2</td>\n",
              "      <td>2.3</td>\n",
              "      <td>2</td>\n",
              "    </tr>\n",
              "    <tr>\n",
              "      <th>146</th>\n",
              "      <td>147</td>\n",
              "      <td>6.3</td>\n",
              "      <td>2.5</td>\n",
              "      <td>5.0</td>\n",
              "      <td>1.9</td>\n",
              "      <td>2</td>\n",
              "    </tr>\n",
              "    <tr>\n",
              "      <th>147</th>\n",
              "      <td>148</td>\n",
              "      <td>6.5</td>\n",
              "      <td>3.0</td>\n",
              "      <td>5.2</td>\n",
              "      <td>2.0</td>\n",
              "      <td>2</td>\n",
              "    </tr>\n",
              "    <tr>\n",
              "      <th>148</th>\n",
              "      <td>149</td>\n",
              "      <td>6.2</td>\n",
              "      <td>3.4</td>\n",
              "      <td>5.4</td>\n",
              "      <td>2.3</td>\n",
              "      <td>2</td>\n",
              "    </tr>\n",
              "    <tr>\n",
              "      <th>149</th>\n",
              "      <td>150</td>\n",
              "      <td>5.9</td>\n",
              "      <td>3.0</td>\n",
              "      <td>5.1</td>\n",
              "      <td>1.8</td>\n",
              "      <td>2</td>\n",
              "    </tr>\n",
              "  </tbody>\n",
              "</table>\n",
              "</div>"
            ],
            "text/plain": [
              "      Id  SepalLengthCm  SepalWidthCm  PetalLengthCm  PetalWidthCm  Species\n",
              "145  146            6.7           3.0            5.2           2.3        2\n",
              "146  147            6.3           2.5            5.0           1.9        2\n",
              "147  148            6.5           3.0            5.2           2.0        2\n",
              "148  149            6.2           3.4            5.4           2.3        2\n",
              "149  150            5.9           3.0            5.1           1.8        2"
            ]
          },
          "metadata": {
            "tags": []
          },
          "execution_count": 4
        }
      ]
    },
    {
      "cell_type": "code",
      "metadata": {
        "id": "WO1KFmUFWZrB",
        "colab_type": "code",
        "colab": {}
      },
      "source": [
        "from sklearn.preprocessing import LabelEncoder\n",
        "lc=LabelEncoder()\n",
        "df['Species']=lc.fit_transform(df['Species'])\n",
        "y=df['Species']\n",
        "df.drop(['Id','Species'],inplace=True,axis=1)\n",
        "x=df\n",
        "\n",
        "from sklearn.model_selection import train_test_split\n",
        "x_train,x_val,y_train,y_val=train_test_split(x,y,test_size=.5)"
      ],
      "execution_count": 0,
      "outputs": []
    },
    {
      "cell_type": "code",
      "metadata": {
        "id": "Oh4kdSiUXDpX",
        "colab_type": "code",
        "outputId": "b5ea3c81-390f-443f-93fc-407d0c2efecd",
        "colab": {
          "base_uri": "https://localhost:8080/",
          "height": 609
        }
      },
      "source": [
        "classifier=LogisticRegression(C=5.0,random_state=0)\n",
        "classifier.fit(x_train,y_train)\n",
        "ypred=classifier.predict(x_val)\n",
        "print(\"Accuracy score of LR\",accuracy_score(y_val,ypred))\n",
        "y_prob=classifier.predict_proba(x_val)\n",
        "df=pd.DataFrame()\n",
        "df['pred']=ypred\n",
        "survived=pd.get_dummies(df.pred,prefix='Survived')\n",
        "df=pd.concat([df,survived],axis=1)\n",
        "df.drop('pred',inplace=True,axis=1)\n",
        "df2=pd.DataFrame()\n",
        "classifier3=DecisionTreeClassifier()\n",
        "classifier3.fit(x_train,y_train)\n",
        "ypred3=classifier3.predict(x_val)\n",
        "print(\"Accuracy score of Decision Tree\",accuracy_score(y_val,ypred3))\n",
        "df2['pred']=ypred3\n",
        "y_prob3=classifier3.predict_proba(x_val)\n",
        "survived2=pd.get_dummies(df2.pred,prefix='Surviveds')\n",
        "df=pd.concat([df,survived2],axis=1)\n",
        "df"
      ],
      "execution_count": 6,
      "outputs": [
        {
          "output_type": "stream",
          "text": [
            "Accuracy score of LR 0.9466666666666667\n",
            "Accuracy score of Decision Tree 0.92\n"
          ],
          "name": "stdout"
        },
        {
          "output_type": "stream",
          "text": [
            "/usr/local/lib/python3.6/dist-packages/sklearn/linear_model/_logistic.py:940: ConvergenceWarning: lbfgs failed to converge (status=1):\n",
            "STOP: TOTAL NO. of ITERATIONS REACHED LIMIT.\n",
            "\n",
            "Increase the number of iterations (max_iter) or scale the data as shown in:\n",
            "    https://scikit-learn.org/stable/modules/preprocessing.html\n",
            "Please also refer to the documentation for alternative solver options:\n",
            "    https://scikit-learn.org/stable/modules/linear_model.html#logistic-regression\n",
            "  extra_warning_msg=_LOGISTIC_SOLVER_CONVERGENCE_MSG)\n"
          ],
          "name": "stderr"
        },
        {
          "output_type": "execute_result",
          "data": {
            "text/html": [
              "<div>\n",
              "<style scoped>\n",
              "    .dataframe tbody tr th:only-of-type {\n",
              "        vertical-align: middle;\n",
              "    }\n",
              "\n",
              "    .dataframe tbody tr th {\n",
              "        vertical-align: top;\n",
              "    }\n",
              "\n",
              "    .dataframe thead th {\n",
              "        text-align: right;\n",
              "    }\n",
              "</style>\n",
              "<table border=\"1\" class=\"dataframe\">\n",
              "  <thead>\n",
              "    <tr style=\"text-align: right;\">\n",
              "      <th></th>\n",
              "      <th>Survived_0</th>\n",
              "      <th>Survived_1</th>\n",
              "      <th>Survived_2</th>\n",
              "      <th>Surviveds_0</th>\n",
              "      <th>Surviveds_1</th>\n",
              "      <th>Surviveds_2</th>\n",
              "    </tr>\n",
              "  </thead>\n",
              "  <tbody>\n",
              "    <tr>\n",
              "      <th>0</th>\n",
              "      <td>0</td>\n",
              "      <td>0</td>\n",
              "      <td>1</td>\n",
              "      <td>0</td>\n",
              "      <td>0</td>\n",
              "      <td>1</td>\n",
              "    </tr>\n",
              "    <tr>\n",
              "      <th>1</th>\n",
              "      <td>0</td>\n",
              "      <td>1</td>\n",
              "      <td>0</td>\n",
              "      <td>0</td>\n",
              "      <td>1</td>\n",
              "      <td>0</td>\n",
              "    </tr>\n",
              "    <tr>\n",
              "      <th>2</th>\n",
              "      <td>0</td>\n",
              "      <td>1</td>\n",
              "      <td>0</td>\n",
              "      <td>0</td>\n",
              "      <td>0</td>\n",
              "      <td>1</td>\n",
              "    </tr>\n",
              "    <tr>\n",
              "      <th>3</th>\n",
              "      <td>1</td>\n",
              "      <td>0</td>\n",
              "      <td>0</td>\n",
              "      <td>1</td>\n",
              "      <td>0</td>\n",
              "      <td>0</td>\n",
              "    </tr>\n",
              "    <tr>\n",
              "      <th>4</th>\n",
              "      <td>0</td>\n",
              "      <td>0</td>\n",
              "      <td>1</td>\n",
              "      <td>0</td>\n",
              "      <td>0</td>\n",
              "      <td>1</td>\n",
              "    </tr>\n",
              "    <tr>\n",
              "      <th>...</th>\n",
              "      <td>...</td>\n",
              "      <td>...</td>\n",
              "      <td>...</td>\n",
              "      <td>...</td>\n",
              "      <td>...</td>\n",
              "      <td>...</td>\n",
              "    </tr>\n",
              "    <tr>\n",
              "      <th>70</th>\n",
              "      <td>1</td>\n",
              "      <td>0</td>\n",
              "      <td>0</td>\n",
              "      <td>1</td>\n",
              "      <td>0</td>\n",
              "      <td>0</td>\n",
              "    </tr>\n",
              "    <tr>\n",
              "      <th>71</th>\n",
              "      <td>0</td>\n",
              "      <td>1</td>\n",
              "      <td>0</td>\n",
              "      <td>0</td>\n",
              "      <td>1</td>\n",
              "      <td>0</td>\n",
              "    </tr>\n",
              "    <tr>\n",
              "      <th>72</th>\n",
              "      <td>0</td>\n",
              "      <td>0</td>\n",
              "      <td>1</td>\n",
              "      <td>0</td>\n",
              "      <td>0</td>\n",
              "      <td>1</td>\n",
              "    </tr>\n",
              "    <tr>\n",
              "      <th>73</th>\n",
              "      <td>1</td>\n",
              "      <td>0</td>\n",
              "      <td>0</td>\n",
              "      <td>1</td>\n",
              "      <td>0</td>\n",
              "      <td>0</td>\n",
              "    </tr>\n",
              "    <tr>\n",
              "      <th>74</th>\n",
              "      <td>0</td>\n",
              "      <td>0</td>\n",
              "      <td>1</td>\n",
              "      <td>0</td>\n",
              "      <td>0</td>\n",
              "      <td>1</td>\n",
              "    </tr>\n",
              "  </tbody>\n",
              "</table>\n",
              "<p>75 rows × 6 columns</p>\n",
              "</div>"
            ],
            "text/plain": [
              "    Survived_0  Survived_1  Survived_2  Surviveds_0  Surviveds_1  Surviveds_2\n",
              "0            0           0           1            0            0            1\n",
              "1            0           1           0            0            1            0\n",
              "2            0           1           0            0            0            1\n",
              "3            1           0           0            1            0            0\n",
              "4            0           0           1            0            0            1\n",
              "..         ...         ...         ...          ...          ...          ...\n",
              "70           1           0           0            1            0            0\n",
              "71           0           1           0            0            1            0\n",
              "72           0           0           1            0            0            1\n",
              "73           1           0           0            1            0            0\n",
              "74           0           0           1            0            0            1\n",
              "\n",
              "[75 rows x 6 columns]"
            ]
          },
          "metadata": {
            "tags": []
          },
          "execution_count": 6
        }
      ]
    },
    {
      "cell_type": "code",
      "metadata": {
        "id": "f40MuYP8YaWh",
        "colab_type": "code",
        "outputId": "3517fc9b-7105-499e-a7c5-bfc13fc1fc00",
        "colab": {
          "base_uri": "https://localhost:8080/",
          "height": 1000
        }
      },
      "source": [
        "y_prob"
      ],
      "execution_count": 7,
      "outputs": [
        {
          "output_type": "execute_result",
          "data": {
            "text/plain": [
              "array([[4.84713880e-05, 2.31951559e-01, 7.67999969e-01],\n",
              "       [1.73979925e-03, 8.73909640e-01, 1.24350561e-01],\n",
              "       [1.47386120e-04, 7.46017961e-01, 2.53834653e-01],\n",
              "       [9.93075280e-01, 6.92471969e-03, 1.22339167e-12],\n",
              "       [3.92139852e-07, 4.19218080e-02, 9.58077800e-01],\n",
              "       [2.22068896e-06, 3.81801586e-02, 9.61817621e-01],\n",
              "       [1.02822030e-03, 9.68367661e-01, 3.06041190e-02],\n",
              "       [7.44366287e-07, 1.85337408e-02, 9.81465515e-01],\n",
              "       [5.11216963e-04, 9.24816971e-01, 7.46718116e-02],\n",
              "       [4.35294744e-05, 8.21340311e-02, 9.17822439e-01],\n",
              "       [7.09778688e-02, 9.28053174e-01, 9.68957214e-04],\n",
              "       [9.95302885e-01, 4.69711471e-03, 1.72649207e-11],\n",
              "       [1.60802744e-04, 7.86621228e-01, 2.13217970e-01],\n",
              "       [1.51004859e-10, 3.12135058e-04, 9.99687865e-01],\n",
              "       [5.90111360e-11, 2.29451451e-04, 9.99770548e-01],\n",
              "       [8.23713855e-03, 9.84371106e-01, 7.39175496e-03],\n",
              "       [2.80820596e-02, 9.67978753e-01, 3.93918773e-03],\n",
              "       [9.93893215e-01, 6.10678529e-03, 4.26168626e-12],\n",
              "       [5.85522222e-04, 7.76106902e-01, 2.23307576e-01],\n",
              "       [9.85305975e-01, 1.46940245e-02, 3.80959239e-11],\n",
              "       [1.55789554e-02, 9.58503307e-01, 2.59177375e-02],\n",
              "       [4.45970788e-08, 2.63809800e-03, 9.97361857e-01],\n",
              "       [9.85128055e-01, 1.48719453e-02, 4.96802537e-11],\n",
              "       [1.99346110e-06, 3.06191506e-02, 9.69378856e-01],\n",
              "       [2.40558993e-03, 8.90192447e-01, 1.07401963e-01],\n",
              "       [8.80194360e-06, 3.77523761e-02, 9.62238822e-01],\n",
              "       [5.17312155e-10, 5.50869688e-04, 9.99449130e-01],\n",
              "       [2.05239869e-06, 1.05775418e-02, 9.89420406e-01],\n",
              "       [2.22506043e-04, 3.63151784e-01, 6.36625709e-01],\n",
              "       [9.72069063e-01, 2.79309366e-02, 5.90231030e-10],\n",
              "       [3.82872850e-04, 4.16275486e-01, 5.83341641e-01],\n",
              "       [6.01586702e-05, 3.94955852e-01, 6.04983989e-01],\n",
              "       [9.67291753e-01, 3.27082469e-02, 1.13502840e-10],\n",
              "       [7.29407525e-09, 1.20842785e-03, 9.98791565e-01],\n",
              "       [4.67130633e-03, 9.84761744e-01, 1.05669497e-02],\n",
              "       [9.89629789e-01, 1.03702105e-02, 2.71680880e-11],\n",
              "       [9.83360950e-01, 1.66390500e-02, 7.56671069e-11],\n",
              "       [2.67406694e-03, 9.86982948e-01, 1.03429849e-02],\n",
              "       [2.80553778e-04, 6.79320185e-01, 3.20399261e-01],\n",
              "       [1.04340651e-07, 4.40993461e-03, 9.95589961e-01],\n",
              "       [7.20426685e-09, 3.48423620e-03, 9.96515757e-01],\n",
              "       [4.84089504e-03, 9.55159711e-01, 3.99993937e-02],\n",
              "       [5.13433717e-07, 1.85242396e-02, 9.81475247e-01],\n",
              "       [6.16247541e-03, 9.75067098e-01, 1.87704264e-02],\n",
              "       [9.66215123e-01, 3.37848765e-02, 9.35492052e-10],\n",
              "       [3.12091955e-07, 1.13189122e-02, 9.88680776e-01],\n",
              "       [6.45883216e-03, 9.64170761e-01, 2.93704064e-02],\n",
              "       [8.43727952e-03, 9.82992524e-01, 8.57019666e-03],\n",
              "       [1.34659479e-06, 3.64381888e-02, 9.63560465e-01],\n",
              "       [9.70320803e-01, 2.96791968e-02, 3.20196855e-10],\n",
              "       [7.17998032e-05, 3.91064725e-01, 6.08863475e-01],\n",
              "       [1.88221590e-06, 3.99189779e-02, 9.60079140e-01],\n",
              "       [6.16932386e-08, 2.73112839e-03, 9.97268810e-01],\n",
              "       [6.92732205e-06, 7.10353391e-02, 9.28957734e-01],\n",
              "       [3.00077958e-02, 9.67565193e-01, 2.42701162e-03],\n",
              "       [9.90129004e-01, 9.87099625e-03, 1.80853871e-11],\n",
              "       [9.92422588e-01, 7.57741238e-03, 1.30120165e-11],\n",
              "       [1.59386463e-07, 6.01740949e-03, 9.93982431e-01],\n",
              "       [9.88530619e-01, 1.14693806e-02, 3.17464940e-11],\n",
              "       [2.61515890e-06, 4.24779095e-02, 9.57519475e-01],\n",
              "       [9.89143247e-01, 1.08567526e-02, 4.60037470e-11],\n",
              "       [1.00685901e-03, 9.59904903e-01, 3.90882376e-02],\n",
              "       [1.17663216e-04, 2.87268182e-01, 7.12614155e-01],\n",
              "       [9.76149802e-01, 2.38501979e-02, 1.22748070e-10],\n",
              "       [1.02685368e-05, 8.99180921e-02, 9.10071639e-01],\n",
              "       [3.77733689e-04, 8.54432064e-01, 1.45190202e-01],\n",
              "       [9.63051630e-01, 3.69483695e-02, 2.24897999e-10],\n",
              "       [9.87563944e-01, 1.24360561e-02, 1.00471001e-11],\n",
              "       [2.91419279e-07, 4.87183291e-03, 9.95127876e-01],\n",
              "       [9.92369778e-01, 7.63022155e-03, 1.02406299e-11],\n",
              "       [9.88746439e-01, 1.12535614e-02, 3.09315496e-11],\n",
              "       [6.21930496e-04, 8.57835445e-01, 1.41542624e-01],\n",
              "       [2.32866791e-09, 1.52358477e-03, 9.98476413e-01],\n",
              "       [9.87162543e-01, 1.28374565e-02, 4.83723699e-11],\n",
              "       [3.14591885e-05, 1.61369086e-01, 8.38599455e-01]])"
            ]
          },
          "metadata": {
            "tags": []
          },
          "execution_count": 7
        }
      ]
    },
    {
      "cell_type": "code",
      "metadata": {
        "id": "wH8SO53QU4GK",
        "colab_type": "code",
        "colab": {}
      },
      "source": [
        "m=np.array(df)\n",
        "s=np.zeros(shape=(df.shape[0],df.shape[0]))\n",
        "for i in range(m.shape[0]):\n",
        "  for j in range(m.shape[0]):\n",
        "    if i!=j:\n",
        "      sum1=0\n",
        "      for k in range(1,m.shape[1]):\n",
        "        sum1=sum1+(m[i][k]*m[j][k])\n",
        "      s[i][j]=sum1\n",
        "w=s\n",
        "d=np.zeros(shape=w.shape[0])"
      ],
      "execution_count": 0,
      "outputs": []
    },
    {
      "cell_type": "code",
      "metadata": {
        "id": "rG-izjB6bIYS",
        "colab_type": "code",
        "outputId": "2aa5359d-b343-4d32-bcd1-4018c86eb85e",
        "colab": {
          "base_uri": "https://localhost:8080/",
          "height": 238
        }
      },
      "source": [
        "for i in range(d.shape[0]):\n",
        "  d[i]=np.sum(w[i],axis=0)\n",
        "wnew=w/d.reshape(d.shape[0],1)\n",
        "Km=wnew\n",
        "Km\n"
      ],
      "execution_count": 9,
      "outputs": [
        {
          "output_type": "execute_result",
          "data": {
            "text/plain": [
              "array([[0.        , 0.        , 0.015625  , ..., 0.03125   , 0.        ,\n",
              "        0.03125   ],\n",
              "       [0.        , 0.        , 0.025     , ..., 0.        , 0.        ,\n",
              "        0.        ],\n",
              "       [0.01851852, 0.01851852, 0.        , ..., 0.01851852, 0.        ,\n",
              "        0.01851852],\n",
              "       ...,\n",
              "       [0.03125   , 0.        , 0.015625  , ..., 0.        , 0.        ,\n",
              "        0.03125   ],\n",
              "       [0.        , 0.        , 0.        , ..., 0.        , 0.        ,\n",
              "        0.        ],\n",
              "       [0.03125   , 0.        , 0.015625  , ..., 0.03125   , 0.        ,\n",
              "        0.        ]])"
            ]
          },
          "metadata": {
            "tags": []
          },
          "execution_count": 9
        }
      ]
    },
    {
      "cell_type": "code",
      "metadata": {
        "id": "-y5Os1YObN9k",
        "colab_type": "code",
        "outputId": "aed16379-e3ba-411d-d827-000aafdd966e",
        "colab": {
          "base_uri": "https://localhost:8080/",
          "height": 306
        }
      },
      "source": [
        "print(np.sum(Km,axis=1))\n",
        "print(np.sum(Km,axis=0))"
      ],
      "execution_count": 10,
      "outputs": [
        {
          "output_type": "stream",
          "text": [
            "[1. 1. 1. 1. 1. 1. 1. 1. 1. 1. 1. 1. 1. 1. 1. 1. 1. 1. 1. 1. 1. 1. 1. 1.\n",
            " 1. 1. 1. 1. 1. 1. 1. 1. 1. 1. 1. 1. 1. 1. 1. 1. 1. 1. 1. 1. 1. 1. 1. 1.\n",
            " 1. 1. 1. 1. 1. 1. 1. 1. 1. 1. 1. 1. 1. 1. 1. 1. 1. 1. 1. 1. 1. 1. 1. 1.\n",
            " 1. 1. 1.]\n",
            "[1.00578704 0.98703704 1.03703704 1.         1.00578704 1.00578704\n",
            " 0.98703704 1.00578704 0.98703704 1.00578704 0.98703704 1.\n",
            " 1.03703704 1.00578704 1.00578704 0.98703704 0.98703704 1.\n",
            " 0.98703704 1.         0.98703704 1.00578704 1.         1.00578704\n",
            " 0.98703704 1.00578704 1.00578704 1.00578704 1.00578704 1.\n",
            " 1.00578704 1.00578704 1.         1.00578704 0.98703704 1.\n",
            " 1.         0.98703704 0.98703704 1.00578704 1.00578704 0.98703704\n",
            " 1.00578704 0.98703704 1.         1.00578704 0.98703704 0.98703704\n",
            " 1.00578704 1.         1.00578704 1.00578704 1.00578704 1.00578704\n",
            " 0.98703704 1.         1.         1.00578704 1.         1.00578704\n",
            " 1.         0.98703704 1.00578704 1.         1.00578704 0.98703704\n",
            " 1.         1.         1.00578704 1.         1.         0.98703704\n",
            " 1.00578704 1.         1.00578704]\n"
          ],
          "name": "stdout"
        }
      ]
    },
    {
      "cell_type": "code",
      "metadata": {
        "id": "Z1V-98pImkVa",
        "colab_type": "code",
        "colab": {}
      },
      "source": [
        "\n",
        "m=m.dot(m.T) \n",
        "s=np.zeros(shape=(m.shape[0],m.shape[0]))\n",
        "for i in range(m.shape[0]):\n",
        "  for j in range(m.shape[0]):\n",
        "    if i!=j:\n",
        "      sum1=0\n",
        "      for k in range(1,df.shape[1]):\n",
        "        sum1=sum1+(m[i][k]*m[j][k])\n",
        "      s[i][j]=sum1   \n"
      ],
      "execution_count": 0,
      "outputs": []
    },
    {
      "cell_type": "code",
      "metadata": {
        "id": "Quf3_vt-3Cer",
        "colab_type": "code",
        "colab": {
          "base_uri": "https://localhost:8080/",
          "height": 34
        },
        "outputId": "855d9965-0985-4be6-d820-366922017dcf"
      },
      "source": [
        "df.shape[1]"
      ],
      "execution_count": 12,
      "outputs": [
        {
          "output_type": "execute_result",
          "data": {
            "text/plain": [
              "6"
            ]
          },
          "metadata": {
            "tags": []
          },
          "execution_count": 12
        }
      ]
    },
    {
      "cell_type": "code",
      "metadata": {
        "id": "j40zOKQ-mnOz",
        "colab_type": "code",
        "outputId": "02de5b4c-1dd4-4dea-9986-a5962c1f5633",
        "colab": {
          "base_uri": "https://localhost:8080/",
          "height": 238
        }
      },
      "source": [
        "\n",
        "d=np.zeros(shape=w.shape[0])\n",
        "w=s\n",
        "for i in range(d.shape[0]):\n",
        "  d[i]=np.sum(w[i],axis=0)\n",
        "wnew=w/d.reshape(d.shape[0],1)  \n",
        "Kc=wnew\n",
        "Kc"
      ],
      "execution_count": 13,
      "outputs": [
        {
          "output_type": "execute_result",
          "data": {
            "text/plain": [
              "array([[0.        , 0.00321543, 0.0192926 , ..., 0.02893891, 0.        ,\n",
              "        0.02893891],\n",
              "       [0.00740741, 0.        , 0.02962963, ..., 0.00740741, 0.        ,\n",
              "        0.00740741],\n",
              "       [0.02150538, 0.01433692, 0.        , ..., 0.02150538, 0.        ,\n",
              "        0.02150538],\n",
              "       ...,\n",
              "       [0.02893891, 0.00321543, 0.0192926 , ..., 0.        , 0.        ,\n",
              "        0.02893891],\n",
              "       [0.        , 0.        , 0.        , ..., 0.        , 0.        ,\n",
              "        0.        ],\n",
              "       [0.02893891, 0.00321543, 0.0192926 , ..., 0.02893891, 0.        ,\n",
              "        0.        ]])"
            ]
          },
          "metadata": {
            "tags": []
          },
          "execution_count": 13
        }
      ]
    },
    {
      "cell_type": "markdown",
      "metadata": {
        "id": "SAFnKTDscdnX",
        "colab_type": "text"
      },
      "source": [
        "**Same, checking for bi-stochastic behaviour**"
      ]
    },
    {
      "cell_type": "code",
      "metadata": {
        "id": "DlvTfnrF2Smi",
        "colab_type": "code",
        "outputId": "ce342908-0716-4d6c-a17e-596f1370b108",
        "colab": {
          "base_uri": "https://localhost:8080/",
          "height": 102
        }
      },
      "source": [
        "  np.sum(Kc,axis=1)"
      ],
      "execution_count": 15,
      "outputs": [
        {
          "output_type": "execute_result",
          "data": {
            "text/plain": [
              "array([1., 1., 1., 1., 1., 1., 1., 1., 1., 1., 1., 1., 1., 1., 1., 1., 1.,\n",
              "       1., 1., 1., 1., 1., 1., 1., 1., 1., 1., 1., 1., 1., 1., 1., 1., 1.,\n",
              "       1., 1., 1., 1., 1., 1., 1., 1., 1., 1., 1., 1., 1., 1., 1., 1., 1.,\n",
              "       1., 1., 1., 1., 1., 1., 1., 1., 1., 1., 1., 1., 1., 1., 1., 1., 1.,\n",
              "       1., 1., 1., 1., 1., 1., 1.])"
            ]
          },
          "metadata": {
            "tags": []
          },
          "execution_count": 15
        }
      ]
    },
    {
      "cell_type": "markdown",
      "metadata": {
        "id": "qmJ1FML0ckLi",
        "colab_type": "text"
      },
      "source": [
        "**Generating Fg and Fo i'e the Group class matrix and Object Class matrix**"
      ]
    },
    {
      "cell_type": "code",
      "metadata": {
        "id": "DTO5d9Ay2Xc5",
        "colab_type": "code",
        "outputId": "1ea7b4ce-f0f1-4930-ed80-76d7876840a3",
        "colab": {
          "base_uri": "https://localhost:8080/",
          "height": 54
        }
      },
      "source": [
        "\n",
        "objclass_mat1=pd.DataFrame(y_prob)\n",
        "objclass_mat2=pd.DataFrame(y_prob3,columns=['Cat1','Cat2','Cat3'])\n",
        "df_t=pd.DataFrame(objclass_mat1)\n",
        "Fo=np.array(df_t)\n",
        "'''gpclass_mat=pd.DataFrame(columns=['Cat1','Cat2','Cat3'])\n",
        "prob1s=np.sum(objclass_mat1.Survived)/len(objclass_mat1)\n",
        "prob1ns=np.sum(objclass_mat1.NotSurvived)/len(objclass_mat1)\n",
        "prob2s=np.sum(objclass_mat2.Survived)/len(objclass_mat2)\n",
        "prob2ns=np.sum(objclass_mat2.NotSurvived)/len(objclass_mat2)\n",
        "list1=[]\n",
        "list1.append(prob1s)\n",
        "list1.append(prob1ns)\n",
        "list1.append(prob2s)\n",
        "list1.append(prob2ns)\n",
        "\n",
        "list2=[]\n",
        "list2.append(prob1ns)\n",
        "list2.append(prob1s)\n",
        "list2.append(prob2ns)\n",
        "list2.append(prob2s)\n",
        "gpclass_mat['Survived']=list1\n",
        "gpclass_mat['NotSurvived']=list2\n",
        "gpclass_mat\n",
        "Fg=np.array(gpclass_mat)\n",
        "Fg'''"
      ],
      "execution_count": 28,
      "outputs": [
        {
          "output_type": "execute_result",
          "data": {
            "text/plain": [
              "\"gpclass_mat=pd.DataFrame(columns=['Cat1','Cat2','Cat3'])\\nprob1s=np.sum(objclass_mat1.Survived)/len(objclass_mat1)\\nprob1ns=np.sum(objclass_mat1.NotSurvived)/len(objclass_mat1)\\nprob2s=np.sum(objclass_mat2.Survived)/len(objclass_mat2)\\nprob2ns=np.sum(objclass_mat2.NotSurvived)/len(objclass_mat2)\\nlist1=[]\\nlist1.append(prob1s)\\nlist1.append(prob1ns)\\nlist1.append(prob2s)\\nlist1.append(prob2ns)\\n\\nlist2=[]\\nlist2.append(prob1ns)\\nlist2.append(prob1s)\\nlist2.append(prob2ns)\\nlist2.append(prob2s)\\ngpclass_mat['Survived']=list1\\ngpclass_mat['NotSurvived']=list2\\ngpclass_mat\\nFg=np.array(gpclass_mat)\\nFg\""
            ]
          },
          "metadata": {
            "tags": []
          },
          "execution_count": 28
        }
      ]
    },
    {
      "cell_type": "markdown",
      "metadata": {
        "id": "JRxO_k8tct-4",
        "colab_type": "text"
      },
      "source": [
        "**Similarly, generating  Yo and Yg**"
      ]
    },
    {
      "cell_type": "code",
      "metadata": {
        "id": "ovw7WJ7S2pQc",
        "colab_type": "code",
        "colab": {}
      },
      "source": [
        "n=2\n",
        "C=survived.shape[1]\n",
        "G=survived.shape[1]*n\n",
        "\n",
        "Yo=np.zeros(shape=(df.shape[0],C))\n",
        "cal_y=np.array(df)\n",
        "for i in range(Yo.shape[0]):\n",
        "  Yo[i][0]=(cal_y[i][0]+cal_y[i][3])/C\n",
        "for i in range(Yo.shape[0]):\n",
        "  Yo[i][1]=(cal_y[i][1]+cal_y[i][4])/C\n",
        "for i in range(Yo.shape[0]):\n",
        "  Yo[i][1]=(cal_y[i][2]+cal_y[i][5])/C  "
      ],
      "execution_count": 0,
      "outputs": []
    },
    {
      "cell_type": "code",
      "metadata": {
        "id": "m_98U8m1yXvV",
        "colab_type": "code",
        "colab": {
          "base_uri": "https://localhost:8080/",
          "height": 1000
        },
        "outputId": "a9384c96-f41c-413a-c0f3-9616deb6a664"
      },
      "source": [
        "Yo"
      ],
      "execution_count": 17,
      "outputs": [
        {
          "output_type": "execute_result",
          "data": {
            "text/plain": [
              "array([[0.        , 0.66666667, 0.        ],\n",
              "       [0.        , 0.        , 0.        ],\n",
              "       [0.        , 0.33333333, 0.        ],\n",
              "       [0.66666667, 0.        , 0.        ],\n",
              "       [0.        , 0.66666667, 0.        ],\n",
              "       [0.        , 0.66666667, 0.        ],\n",
              "       [0.        , 0.        , 0.        ],\n",
              "       [0.        , 0.66666667, 0.        ],\n",
              "       [0.        , 0.        , 0.        ],\n",
              "       [0.        , 0.66666667, 0.        ],\n",
              "       [0.        , 0.        , 0.        ],\n",
              "       [0.66666667, 0.        , 0.        ],\n",
              "       [0.        , 0.33333333, 0.        ],\n",
              "       [0.        , 0.66666667, 0.        ],\n",
              "       [0.        , 0.66666667, 0.        ],\n",
              "       [0.        , 0.        , 0.        ],\n",
              "       [0.        , 0.        , 0.        ],\n",
              "       [0.66666667, 0.        , 0.        ],\n",
              "       [0.        , 0.        , 0.        ],\n",
              "       [0.66666667, 0.        , 0.        ],\n",
              "       [0.        , 0.        , 0.        ],\n",
              "       [0.        , 0.66666667, 0.        ],\n",
              "       [0.66666667, 0.        , 0.        ],\n",
              "       [0.        , 0.66666667, 0.        ],\n",
              "       [0.        , 0.        , 0.        ],\n",
              "       [0.        , 0.66666667, 0.        ],\n",
              "       [0.        , 0.66666667, 0.        ],\n",
              "       [0.        , 0.66666667, 0.        ],\n",
              "       [0.        , 0.66666667, 0.        ],\n",
              "       [0.66666667, 0.        , 0.        ],\n",
              "       [0.        , 0.66666667, 0.        ],\n",
              "       [0.        , 0.66666667, 0.        ],\n",
              "       [0.66666667, 0.        , 0.        ],\n",
              "       [0.        , 0.66666667, 0.        ],\n",
              "       [0.        , 0.        , 0.        ],\n",
              "       [0.66666667, 0.        , 0.        ],\n",
              "       [0.66666667, 0.        , 0.        ],\n",
              "       [0.        , 0.        , 0.        ],\n",
              "       [0.        , 0.        , 0.        ],\n",
              "       [0.        , 0.66666667, 0.        ],\n",
              "       [0.        , 0.66666667, 0.        ],\n",
              "       [0.        , 0.        , 0.        ],\n",
              "       [0.        , 0.66666667, 0.        ],\n",
              "       [0.        , 0.        , 0.        ],\n",
              "       [0.66666667, 0.        , 0.        ],\n",
              "       [0.        , 0.66666667, 0.        ],\n",
              "       [0.        , 0.        , 0.        ],\n",
              "       [0.        , 0.        , 0.        ],\n",
              "       [0.        , 0.66666667, 0.        ],\n",
              "       [0.66666667, 0.        , 0.        ],\n",
              "       [0.        , 0.66666667, 0.        ],\n",
              "       [0.        , 0.66666667, 0.        ],\n",
              "       [0.        , 0.66666667, 0.        ],\n",
              "       [0.        , 0.66666667, 0.        ],\n",
              "       [0.        , 0.        , 0.        ],\n",
              "       [0.66666667, 0.        , 0.        ],\n",
              "       [0.66666667, 0.        , 0.        ],\n",
              "       [0.        , 0.66666667, 0.        ],\n",
              "       [0.66666667, 0.        , 0.        ],\n",
              "       [0.        , 0.66666667, 0.        ],\n",
              "       [0.66666667, 0.        , 0.        ],\n",
              "       [0.        , 0.        , 0.        ],\n",
              "       [0.        , 0.66666667, 0.        ],\n",
              "       [0.66666667, 0.        , 0.        ],\n",
              "       [0.        , 0.66666667, 0.        ],\n",
              "       [0.        , 0.        , 0.        ],\n",
              "       [0.66666667, 0.        , 0.        ],\n",
              "       [0.66666667, 0.        , 0.        ],\n",
              "       [0.        , 0.66666667, 0.        ],\n",
              "       [0.66666667, 0.        , 0.        ],\n",
              "       [0.66666667, 0.        , 0.        ],\n",
              "       [0.        , 0.        , 0.        ],\n",
              "       [0.        , 0.66666667, 0.        ],\n",
              "       [0.66666667, 0.        , 0.        ],\n",
              "       [0.        , 0.66666667, 0.        ]])"
            ]
          },
          "metadata": {
            "tags": []
          },
          "execution_count": 17
        }
      ]
    },
    {
      "cell_type": "code",
      "metadata": {
        "id": "5SR3KDg3q87U",
        "colab_type": "code",
        "outputId": "2017c989-f08e-47a3-a724-f5a35586aab3",
        "colab": {
          "base_uri": "https://localhost:8080/",
          "height": 136
        }
      },
      "source": [
        "c=np.sum(df,axis=0)\n",
        "c"
      ],
      "execution_count": 18,
      "outputs": [
        {
          "output_type": "execute_result",
          "data": {
            "text/plain": [
              "Survived_0     21\n",
              "Survived_1     22\n",
              "Survived_2     32\n",
              "Surviveds_0    21\n",
              "Surviveds_1    20\n",
              "Surviveds_2    34\n",
              "dtype: int64"
            ]
          },
          "metadata": {
            "tags": []
          },
          "execution_count": 18
        }
      ]
    },
    {
      "cell_type": "code",
      "metadata": {
        "id": "hYZkiSfs2w2I",
        "colab_type": "code",
        "outputId": "768742e5-f1e9-4f30-c96c-14e46e04b868",
        "colab": {
          "base_uri": "https://localhost:8080/",
          "height": 119
        }
      },
      "source": [
        "m=np.array(df)\n",
        "Yg=np.zeros(shape=(m.shape[1],3))\n",
        "c=np.sum(df,axis=0)\n",
        "for i in range(Yg.shape[0]):\n",
        "  if i%2==0:\n",
        "    Yg[i][0]=c[i]/m.shape[0]\n",
        "    Yg[i][1]=(1-Yg[i][0])/2\n",
        "    Yg[i][2]=(1-Yg[i][0])/2\n",
        "  elif i%3==0:\n",
        "    Yg[i][2]=c[i]/m.shape[0]\n",
        "    Yg[i][0]=(1-Yg[i][2])/2\n",
        "    Yg[i][1]=(1-Yg[i][2])/2  \n",
        "  else:\n",
        "    Yg[i][1]=c[i]/m.shape[0]\n",
        "    Yg[i][0]=(1-Yg[i][1])/2\n",
        "    Yg[i][2]=(1-Yg[i][1])/2\n",
        "Yg    "
      ],
      "execution_count": 19,
      "outputs": [
        {
          "output_type": "execute_result",
          "data": {
            "text/plain": [
              "array([[0.28      , 0.36      , 0.36      ],\n",
              "       [0.35333333, 0.29333333, 0.35333333],\n",
              "       [0.42666667, 0.28666667, 0.28666667],\n",
              "       [0.36      , 0.36      , 0.28      ],\n",
              "       [0.26666667, 0.36666667, 0.36666667],\n",
              "       [0.27333333, 0.45333333, 0.27333333]])"
            ]
          },
          "metadata": {
            "tags": []
          },
          "execution_count": 19
        }
      ]
    },
    {
      "cell_type": "markdown",
      "metadata": {
        "id": "rTa6_2DsdIlO",
        "colab_type": "text"
      },
      "source": [
        "Genearting "
      ]
    },
    {
      "cell_type": "markdown",
      "metadata": {
        "id": "0hcY4DpgduI4",
        "colab_type": "text"
      },
      "source": [
        "Checking for the conditions specified in eq 6"
      ]
    },
    {
      "cell_type": "code",
      "metadata": {
        "id": "QHAljZHU21jH",
        "colab_type": "code",
        "outputId": "9ac31a74-1fa4-4257-9057-b8eecfd8de09",
        "colab": {
          "base_uri": "https://localhost:8080/",
          "height": 231
        }
      },
      "source": [
        "\n",
        "Fo_cond=True\n",
        "Fg_cond=True\n",
        "for i in range(Fo.shape[0]):\n",
        "  if np.linalg.norm((Fo[i]), ord=1)!=1:\n",
        "    Fo_cond=False\n",
        "'''for i in range(Fg.shape[0]):\n",
        "  if np.linalg.norm((Fg[i]), ord=1)!=1:\n",
        "    Fo_cond=False   ''' \n",
        "print(Fo_cond)\n",
        "print(Fg_cond)"
      ],
      "execution_count": 20,
      "outputs": [
        {
          "output_type": "error",
          "ename": "NameError",
          "evalue": "ignored",
          "traceback": [
            "\u001b[0;31m---------------------------------------------------------------------------\u001b[0m",
            "\u001b[0;31mNameError\u001b[0m                                 Traceback (most recent call last)",
            "\u001b[0;32m<ipython-input-20-c20719bfe58e>\u001b[0m in \u001b[0;36m<module>\u001b[0;34m()\u001b[0m\n\u001b[1;32m      2\u001b[0m \u001b[0mFo_cond\u001b[0m\u001b[0;34m=\u001b[0m\u001b[0;32mTrue\u001b[0m\u001b[0;34m\u001b[0m\u001b[0;34m\u001b[0m\u001b[0m\n\u001b[1;32m      3\u001b[0m \u001b[0mFg_cond\u001b[0m\u001b[0;34m=\u001b[0m\u001b[0;32mTrue\u001b[0m\u001b[0;34m\u001b[0m\u001b[0;34m\u001b[0m\u001b[0m\n\u001b[0;32m----> 4\u001b[0;31m \u001b[0;32mfor\u001b[0m \u001b[0mi\u001b[0m \u001b[0;32min\u001b[0m \u001b[0mrange\u001b[0m\u001b[0;34m(\u001b[0m\u001b[0mFo\u001b[0m\u001b[0;34m.\u001b[0m\u001b[0mshape\u001b[0m\u001b[0;34m[\u001b[0m\u001b[0;36m0\u001b[0m\u001b[0;34m]\u001b[0m\u001b[0;34m)\u001b[0m\u001b[0;34m:\u001b[0m\u001b[0;34m\u001b[0m\u001b[0;34m\u001b[0m\u001b[0m\n\u001b[0m\u001b[1;32m      5\u001b[0m   \u001b[0;32mif\u001b[0m \u001b[0mnp\u001b[0m\u001b[0;34m.\u001b[0m\u001b[0mlinalg\u001b[0m\u001b[0;34m.\u001b[0m\u001b[0mnorm\u001b[0m\u001b[0;34m(\u001b[0m\u001b[0;34m(\u001b[0m\u001b[0mFo\u001b[0m\u001b[0;34m[\u001b[0m\u001b[0mi\u001b[0m\u001b[0;34m]\u001b[0m\u001b[0;34m)\u001b[0m\u001b[0;34m,\u001b[0m \u001b[0mord\u001b[0m\u001b[0;34m=\u001b[0m\u001b[0;36m1\u001b[0m\u001b[0;34m)\u001b[0m\u001b[0;34m!=\u001b[0m\u001b[0;36m1\u001b[0m\u001b[0;34m:\u001b[0m\u001b[0;34m\u001b[0m\u001b[0;34m\u001b[0m\u001b[0m\n\u001b[1;32m      6\u001b[0m     \u001b[0mFo_cond\u001b[0m\u001b[0;34m=\u001b[0m\u001b[0;32mFalse\u001b[0m\u001b[0;34m\u001b[0m\u001b[0;34m\u001b[0m\u001b[0m\n",
            "\u001b[0;31mNameError\u001b[0m: name 'Fo' is not defined"
          ]
        }
      ]
    },
    {
      "cell_type": "markdown",
      "metadata": {
        "id": "T7YlgtdbeCFc",
        "colab_type": "text"
      },
      "source": [
        "**Generating diagonal matrices Dm and Dc**"
      ]
    },
    {
      "cell_type": "code",
      "metadata": {
        "id": "a8cG1naJ3Cbk",
        "colab_type": "code",
        "outputId": "b4fe8515-f62f-4fe9-8ddd-0b16c9d82fa5",
        "colab": {
          "base_uri": "https://localhost:8080/",
          "height": 51
        }
      },
      "source": [
        "test_dm=np.zeros(shape=(Km.shape))\n",
        "test_Km=Km\n",
        "for i in range(test_Km.shape[0]):\n",
        "  test_dm[i]=np.sum(test_Km[i],axis=0)\n",
        "Dm=np.diag(np.diag(test_dm))\n",
        "print(\"Shape of DM\",Dm.shape)\n",
        "test_dc=np.zeros(shape=(Kc.shape))\n",
        "test_Kc=Kc\n",
        "for i in range(test_Kc.shape[0]):\n",
        "  test_dc[i]=np.sum(test_Kc[i],axis=0)\n",
        "Dc=np.diag(np.diag(test_dc))\n",
        "print(\"shape of Dc\",Dc.shape)"
      ],
      "execution_count": 21,
      "outputs": [
        {
          "output_type": "stream",
          "text": [
            "Shape of DM (75, 75)\n",
            "shape of Dc (75, 75)\n"
          ],
          "name": "stdout"
        }
      ]
    },
    {
      "cell_type": "code",
      "metadata": {
        "id": "Bv1sYezy3Hwa",
        "colab_type": "code",
        "outputId": "637f8d2a-4618-4c35-ca56-40a3c521538a",
        "colab": {
          "base_uri": "https://localhost:8080/",
          "height": 265
        }
      },
      "source": [
        "print(\"KHM\",Km.shape)\n",
        "print(\"KHC\",Kc.shape)\n",
        "print(\"Fo\",Fo.shape)\n",
        "print(\"Yo\",Yo.shape)\n",
        "print(\"Yg\",Yg.shape)\n",
        "print(\"Dm\",Dm.shape)\n",
        "print(\"Dc\",Dc.shape)"
      ],
      "execution_count": 22,
      "outputs": [
        {
          "output_type": "stream",
          "text": [
            "KHM (75, 75)\n",
            "KHC (75, 75)\n"
          ],
          "name": "stdout"
        },
        {
          "output_type": "error",
          "ename": "NameError",
          "evalue": "ignored",
          "traceback": [
            "\u001b[0;31m---------------------------------------------------------------------------\u001b[0m",
            "\u001b[0;31mNameError\u001b[0m                                 Traceback (most recent call last)",
            "\u001b[0;32m<ipython-input-22-0582fc44df84>\u001b[0m in \u001b[0;36m<module>\u001b[0;34m()\u001b[0m\n\u001b[1;32m      1\u001b[0m \u001b[0mprint\u001b[0m\u001b[0;34m(\u001b[0m\u001b[0;34m\"KHM\"\u001b[0m\u001b[0;34m,\u001b[0m\u001b[0mKm\u001b[0m\u001b[0;34m.\u001b[0m\u001b[0mshape\u001b[0m\u001b[0;34m)\u001b[0m\u001b[0;34m\u001b[0m\u001b[0;34m\u001b[0m\u001b[0m\n\u001b[1;32m      2\u001b[0m \u001b[0mprint\u001b[0m\u001b[0;34m(\u001b[0m\u001b[0;34m\"KHC\"\u001b[0m\u001b[0;34m,\u001b[0m\u001b[0mKc\u001b[0m\u001b[0;34m.\u001b[0m\u001b[0mshape\u001b[0m\u001b[0;34m)\u001b[0m\u001b[0;34m\u001b[0m\u001b[0;34m\u001b[0m\u001b[0m\n\u001b[0;32m----> 3\u001b[0;31m \u001b[0mprint\u001b[0m\u001b[0;34m(\u001b[0m\u001b[0;34m\"Fo\"\u001b[0m\u001b[0;34m,\u001b[0m\u001b[0mFo\u001b[0m\u001b[0;34m.\u001b[0m\u001b[0mshape\u001b[0m\u001b[0;34m)\u001b[0m\u001b[0;34m\u001b[0m\u001b[0;34m\u001b[0m\u001b[0m\n\u001b[0m\u001b[1;32m      4\u001b[0m \u001b[0mprint\u001b[0m\u001b[0;34m(\u001b[0m\u001b[0;34m\"Yo\"\u001b[0m\u001b[0;34m,\u001b[0m\u001b[0mYo\u001b[0m\u001b[0;34m.\u001b[0m\u001b[0mshape\u001b[0m\u001b[0;34m)\u001b[0m\u001b[0;34m\u001b[0m\u001b[0;34m\u001b[0m\u001b[0m\n\u001b[1;32m      5\u001b[0m \u001b[0mprint\u001b[0m\u001b[0;34m(\u001b[0m\u001b[0;34m\"Yg\"\u001b[0m\u001b[0;34m,\u001b[0m\u001b[0mYg\u001b[0m\u001b[0;34m.\u001b[0m\u001b[0mshape\u001b[0m\u001b[0;34m)\u001b[0m\u001b[0;34m\u001b[0m\u001b[0;34m\u001b[0m\u001b[0m\n",
            "\u001b[0;31mNameError\u001b[0m: name 'Fo' is not defined"
          ]
        }
      ]
    },
    {
      "cell_type": "code",
      "metadata": {
        "id": "dCBI0yrwqzOB",
        "colab_type": "code",
        "colab": {}
      },
      "source": [
        "\n"
      ],
      "execution_count": 0,
      "outputs": []
    },
    {
      "cell_type": "code",
      "metadata": {
        "id": "I5InaYBP3Lfq",
        "colab_type": "code",
        "outputId": "159143f6-d91a-4dfc-f6a8-132e21608d57",
        "colab": {
          "base_uri": "https://localhost:8080/",
          "height": 34
        }
      },
      "source": [
        "\n",
        "Yg=np.pad(Yg,pad_width=[(0, Km.shape[0]-G), (0, 0)])\n",
        "Yg.shape"
      ],
      "execution_count": 23,
      "outputs": [
        {
          "output_type": "execute_result",
          "data": {
            "text/plain": [
              "(75, 3)"
            ]
          },
          "metadata": {
            "tags": []
          },
          "execution_count": 23
        }
      ]
    },
    {
      "cell_type": "code",
      "metadata": {
        "id": "Ro1G66qS5Pzv",
        "colab_type": "code",
        "outputId": "2faef548-1b34-4874-a0a7-22de07282d65",
        "colab": {
          "base_uri": "https://localhost:8080/",
          "height": 136
        }
      },
      "source": [
        "print(\"KHM\",Km.shape)\n",
        "print(\"KHC\",Kc.shape)\n",
        "print(\"Fo\",Fo.shape)\n",
        "'''print(\"Fg\",Fg.shape)'''\n",
        "print(\"Yo\",Yo.shape)\n",
        "print(\"Yg\",Yg.shape)\n",
        "print(\"Dm\",Dm.shape)\n",
        "print(\"Dc\",Dc.shape)"
      ],
      "execution_count": 29,
      "outputs": [
        {
          "output_type": "stream",
          "text": [
            "KHM (75, 75)\n",
            "KHC (75, 75)\n",
            "Fo (75, 3)\n",
            "Yo (75, 3)\n",
            "Yg (75, 3)\n",
            "Dm (75, 75)\n",
            "Dc (75, 75)\n"
          ],
          "name": "stdout"
        }
      ]
    },
    {
      "cell_type": "code",
      "metadata": {
        "id": "4OVQOQf35Tb7",
        "colab_type": "code",
        "colab": {}
      },
      "source": [
        "import sys\n",
        "threshold=sys.float_info.epsilon"
      ],
      "execution_count": 0,
      "outputs": []
    },
    {
      "cell_type": "code",
      "metadata": {
        "id": "x2yQviy9gmJi",
        "colab_type": "code",
        "colab": {}
      },
      "source": [
        "from numpy import linalg as LA"
      ],
      "execution_count": 0,
      "outputs": []
    },
    {
      "cell_type": "markdown",
      "metadata": {
        "id": "oTILUgDfeX91",
        "colab_type": "text"
      },
      "source": [
        "**Implementing algorithm 2**"
      ]
    },
    {
      "cell_type": "code",
      "metadata": {
        "id": "NaOULbFt5XBQ",
        "colab_type": "code",
        "colab": {}
      },
      "source": [
        "alpha=0.25\n",
        "beta=0.35\n",
        "gamma=0.40\n",
        "delta=0.5\n",
        "Fg=Yg\n",
        "\n",
        "Fo_t=np.zeros(shape=Fo.shape)\n",
        "Fg_t=np.zeros(shape=Fg.shape)\n",
        "Fot_old=np.zeros(shape=Fo.shape)\n",
        "Fo_t=Fo\n",
        "Fg_t=Fg\n",
        "while LA.norm((Fo_t-Fot_old),'fro')>threshold:\n",
        "  Fot_old=Fo_t\n",
        "  Fg_t=np.matmul((np.linalg.inv(2*delta*np.ones(shape=Dm.shape)+(alpha*Dm))),((alpha*np.matmul(Km,Fo_t))+(2*delta*Yg)))\n",
        "  Fo_t=np.matmul((np.linalg.inv((alpha*Dm)+(2*beta*Dc)-(beta*np.matmul(np.identity(Kc.shape[0]),Kc))-(beta*np.matmul(np.ones(shape=Kc.shape),Kc))+(2*gamma*np.identity(Kc.shape[0])))),((alpha*np.matmul(Km,Fg_t))+(2*gamma*Yo)))"
      ],
      "execution_count": 0,
      "outputs": []
    },
    {
      "cell_type": "code",
      "metadata": {
        "id": "ZhH4nVo_5e6_",
        "colab_type": "code",
        "outputId": "cc66f2a2-f0b9-47b9-9699-a207a581a790",
        "colab": {
          "base_uri": "https://localhost:8080/",
          "height": 54
        }
      },
      "source": [
        "from sklearn.metrics import accuracy_score,roc_auc_score\n",
        "result=np.zeros(shape=Fo_t.shape[0])\n",
        "for i in range(Fo_t.shape[0]):\n",
        "  result[i]=np.argmax(Fo_t[i])\n",
        "'''print(\"Accuracy value for Ensemble model\",accuracy_score(y_val,result))\n",
        "print(\"AUC for for Ensemble model\",roc_auc_score(y_val,result))\n",
        "print(\"Accuracy value for LR\",accuracy_score(y_val,ypred))\n",
        "print(\"AUC for for LR\",roc_auc_score(y_val,ypred))'''\n"
      ],
      "execution_count": 31,
      "outputs": [
        {
          "output_type": "execute_result",
          "data": {
            "text/plain": [
              "'print(\"Accuracy value for Ensemble model\",accuracy_score(y_val,result))\\nprint(\"AUC for for Ensemble model\",roc_auc_score(y_val,result))\\nprint(\"Accuracy value for LR\",accuracy_score(y_val,ypred))\\nprint(\"AUC for for LR\",roc_auc_score(y_val,ypred))'"
            ]
          },
          "metadata": {
            "tags": []
          },
          "execution_count": 31
        }
      ]
    },
    {
      "cell_type": "markdown",
      "metadata": {
        "id": "cUskNBtfe5C7",
        "colab_type": "text"
      },
      "source": [
        "**We see that the ensemble model performs better than the Random forest, Kneigbours and Svm models and is at par with the Logistic regression model that gives us the best accuracy. **"
      ]
    },
    {
      "cell_type": "code",
      "metadata": {
        "id": "b-wv5VdjiJm4",
        "colab_type": "code",
        "outputId": "e872bb31-7c2b-4d72-e68a-4dbd7aa620ed",
        "colab": {
          "base_uri": "https://localhost:8080/",
          "height": 302
        }
      },
      "source": [
        "print(\"Accuracy value for Ensemble model\",roc_auc_score(y_val,result))"
      ],
      "execution_count": 33,
      "outputs": [
        {
          "output_type": "error",
          "ename": "ValueError",
          "evalue": "ignored",
          "traceback": [
            "\u001b[0;31m---------------------------------------------------------------------------\u001b[0m",
            "\u001b[0;31mValueError\u001b[0m                                Traceback (most recent call last)",
            "\u001b[0;32m<ipython-input-33-2e000a4da12d>\u001b[0m in \u001b[0;36m<module>\u001b[0;34m()\u001b[0m\n\u001b[0;32m----> 1\u001b[0;31m \u001b[0mprint\u001b[0m\u001b[0;34m(\u001b[0m\u001b[0;34m\"Accuracy value for Ensemble model\"\u001b[0m\u001b[0;34m,\u001b[0m\u001b[0mroc_auc_score\u001b[0m\u001b[0;34m(\u001b[0m\u001b[0my_val\u001b[0m\u001b[0;34m,\u001b[0m\u001b[0mresult\u001b[0m\u001b[0;34m)\u001b[0m\u001b[0;34m)\u001b[0m\u001b[0;34m\u001b[0m\u001b[0;34m\u001b[0m\u001b[0m\n\u001b[0m",
            "\u001b[0;32m/usr/local/lib/python3.6/dist-packages/sklearn/metrics/_ranking.py\u001b[0m in \u001b[0;36mroc_auc_score\u001b[0;34m(y_true, y_score, average, sample_weight, max_fpr, multi_class, labels)\u001b[0m\n\u001b[1;32m    379\u001b[0m                              \"instead\".format(max_fpr))\n\u001b[1;32m    380\u001b[0m         \u001b[0;32mif\u001b[0m \u001b[0mmulti_class\u001b[0m \u001b[0;34m==\u001b[0m \u001b[0;34m'raise'\u001b[0m\u001b[0;34m:\u001b[0m\u001b[0;34m\u001b[0m\u001b[0;34m\u001b[0m\u001b[0m\n\u001b[0;32m--> 381\u001b[0;31m             \u001b[0;32mraise\u001b[0m \u001b[0mValueError\u001b[0m\u001b[0;34m(\u001b[0m\u001b[0;34m\"multi_class must be in ('ovo', 'ovr')\"\u001b[0m\u001b[0;34m)\u001b[0m\u001b[0;34m\u001b[0m\u001b[0;34m\u001b[0m\u001b[0m\n\u001b[0m\u001b[1;32m    382\u001b[0m         return _multiclass_roc_auc_score(y_true, y_score, labels,\n\u001b[1;32m    383\u001b[0m                                          multi_class, average, sample_weight)\n",
            "\u001b[0;31mValueError\u001b[0m: multi_class must be in ('ovo', 'ovr')"
          ]
        }
      ]
    },
    {
      "cell_type": "code",
      "metadata": {
        "id": "nHPEQGi7fiB7",
        "colab_type": "code",
        "outputId": "33dc5346-b13f-4db9-db4b-e5ccea5043e8",
        "colab": {
          "base_uri": "https://localhost:8080/",
          "height": 221
        }
      },
      "source": [
        "y_val"
      ],
      "execution_count": 74,
      "outputs": [
        {
          "output_type": "execute_result",
          "data": {
            "text/plain": [
              "49     0\n",
              "28     0\n",
              "140    2\n",
              "17     0\n",
              "70     1\n",
              "      ..\n",
              "29     0\n",
              "47     0\n",
              "148    2\n",
              "6      0\n",
              "119    2\n",
              "Name: Species, Length: 75, dtype: int64"
            ]
          },
          "metadata": {
            "tags": []
          },
          "execution_count": 74
        }
      ]
    },
    {
      "cell_type": "code",
      "metadata": {
        "id": "wAqxNyL-fnmJ",
        "colab_type": "code",
        "outputId": "fb6c0990-8311-42f3-9c42-cb75ffed4faa",
        "colab": {
          "base_uri": "https://localhost:8080/",
          "height": 34
        }
      },
      "source": [
        "len(result)"
      ],
      "execution_count": 76,
      "outputs": [
        {
          "output_type": "execute_result",
          "data": {
            "text/plain": [
              "75"
            ]
          },
          "metadata": {
            "tags": []
          },
          "execution_count": 76
        }
      ]
    },
    {
      "cell_type": "code",
      "metadata": {
        "id": "4eIWZQh0ftJQ",
        "colab_type": "code",
        "outputId": "b152d0bf-e6fc-493c-8a00-4acad047b483",
        "colab": {
          "base_uri": "https://localhost:8080/",
          "height": 34
        }
      },
      "source": [
        "import xgboost as xgb\n",
        "classifier4=xgb.XGBClassifier()\n",
        "classifier4.fit(x_train,y_train)\n",
        "ypred=classifier4.predict(x_val)\n",
        "print(\"Accuracy score of LR\",accuracy_score(y_val,ypred))\n"
      ],
      "execution_count": 0,
      "outputs": [
        {
          "output_type": "stream",
          "text": [
            "Accuracy score of LR 0.9733333333333334\n"
          ],
          "name": "stdout"
        }
      ]
    },
    {
      "cell_type": "code",
      "metadata": {
        "id": "ErxU6UKcgbzI",
        "colab_type": "code",
        "outputId": "1dbd84ed-9094-4c91-a465-fbc62260b9c8",
        "colab": {
          "base_uri": "https://localhost:8080/",
          "height": 34
        }
      },
      "source": [
        "import xgboost as xgb\n",
        "classifier4=RandomForestClassifier()\n",
        "classifier4.fit(x_train,y_train)\n",
        "ypred=classifier4.predict(x_val)\n",
        "print(\"Accuracy score of LR\",accuracy_score(y_val,ypred))"
      ],
      "execution_count": 0,
      "outputs": [
        {
          "output_type": "stream",
          "text": [
            "Accuracy score of LR 0.96\n"
          ],
          "name": "stdout"
        }
      ]
    },
    {
      "cell_type": "code",
      "metadata": {
        "id": "8nJpKhSgl4Rr",
        "colab_type": "code",
        "outputId": "a25852e1-1867-414d-c8f0-de383052cf7f",
        "colab": {
          "base_uri": "https://localhost:8080/",
          "height": 34
        }
      },
      "source": [
        "from sklearn.svm import SVC\n",
        "classifier4=SVC()\n",
        "classifier4.fit(x_train,y_train)\n",
        "ypred=classifier4.predict(x_val)\n",
        "print(\"Accuracy score of LR\",accuracy_score(y_val,ypred))"
      ],
      "execution_count": 0,
      "outputs": [
        {
          "output_type": "stream",
          "text": [
            "Accuracy score of LR 0.9333333333333333\n"
          ],
          "name": "stdout"
        }
      ]
    },
    {
      "cell_type": "code",
      "metadata": {
        "id": "V9eMvTyTmaQJ",
        "colab_type": "code",
        "colab": {}
      },
      "source": [
        ""
      ],
      "execution_count": 0,
      "outputs": []
    }
  ]
}